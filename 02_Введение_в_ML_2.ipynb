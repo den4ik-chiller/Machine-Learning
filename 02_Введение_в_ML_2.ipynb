{
  "cells": [
    {
      "cell_type": "markdown",
      "id": "dd988417",
      "metadata": {
        "id": "dd988417"
      },
      "source": [
        "1. Загрузите данные по вариантам в ноутбук."
      ]
    },
    {
      "cell_type": "code",
      "execution_count": null,
      "id": "92027cdf",
      "metadata": {
        "id": "92027cdf"
      },
      "outputs": [],
      "source": [
        "import pandas as pd"
      ]
    },
    {
      "cell_type": "code",
      "execution_count": null,
      "id": "271ad042",
      "metadata": {
        "id": "271ad042",
        "outputId": "b1ff9f5d-b758-4a82-ff62-c166b6397e99"
      },
      "outputs": [
        {
          "data": {
            "text/html": [
              "<div>\n",
              "<style scoped>\n",
              "    .dataframe tbody tr th:only-of-type {\n",
              "        vertical-align: middle;\n",
              "    }\n",
              "\n",
              "    .dataframe tbody tr th {\n",
              "        vertical-align: top;\n",
              "    }\n",
              "\n",
              "    .dataframe thead th {\n",
              "        text-align: right;\n",
              "    }\n",
              "</style>\n",
              "<table border=\"1\" class=\"dataframe\">\n",
              "  <thead>\n",
              "    <tr style=\"text-align: right;\">\n",
              "      <th></th>\n",
              "      <th>№</th>\n",
              "      <th>№ школы</th>\n",
              "      <th>Класс</th>\n",
              "      <th>Пол</th>\n",
              "      <th>Номер варианта</th>\n",
              "      <th>Задания с кратким ответом</th>\n",
              "      <th>Задания с развёрнутым ответом</th>\n",
              "      <th>Устная часть</th>\n",
              "      <th>Первичный балл</th>\n",
              "      <th>Балл</th>\n",
              "      <th>Минимальный балл</th>\n",
              "    </tr>\n",
              "  </thead>\n",
              "  <tbody>\n",
              "    <tr>\n",
              "      <th>0</th>\n",
              "      <td>1</td>\n",
              "      <td>152</td>\n",
              "      <td>11</td>\n",
              "      <td>М</td>\n",
              "      <td>333</td>\n",
              "      <td>----001---00---000--1-+0---</td>\n",
              "      <td>0(3)0(3)0(3)0(3)0(3)</td>\n",
              "      <td>NaN</td>\n",
              "      <td>3</td>\n",
              "      <td>10</td>\n",
              "      <td>36</td>\n",
              "    </tr>\n",
              "    <tr>\n",
              "      <th>1</th>\n",
              "      <td>2</td>\n",
              "      <td>140</td>\n",
              "      <td>12</td>\n",
              "      <td>Ж</td>\n",
              "      <td>332</td>\n",
              "      <td>----100---01-+-000--0--1---</td>\n",
              "      <td>0(3)0(3)0(3)0(3)0(3)</td>\n",
              "      <td>NaN</td>\n",
              "      <td>4</td>\n",
              "      <td>14</td>\n",
              "      <td>36</td>\n",
              "    </tr>\n",
              "    <tr>\n",
              "      <th>2</th>\n",
              "      <td>3</td>\n",
              "      <td>137</td>\n",
              "      <td>11</td>\n",
              "      <td>М</td>\n",
              "      <td>328</td>\n",
              "      <td>--+-010---00---101--0--1---</td>\n",
              "      <td>0(3)0(3)0(3)0(3)0(3)</td>\n",
              "      <td>NaN</td>\n",
              "      <td>5</td>\n",
              "      <td>17</td>\n",
              "      <td>36</td>\n",
              "    </tr>\n",
              "    <tr>\n",
              "      <th>3</th>\n",
              "      <td>4</td>\n",
              "      <td>148</td>\n",
              "      <td>11</td>\n",
              "      <td>М</td>\n",
              "      <td>333</td>\n",
              "      <td>-+--000--+01---100--0--1---</td>\n",
              "      <td>0(3)0(3)0(3)0(3)0(3)</td>\n",
              "      <td>NaN</td>\n",
              "      <td>5</td>\n",
              "      <td>17</td>\n",
              "      <td>36</td>\n",
              "    </tr>\n",
              "    <tr>\n",
              "      <th>4</th>\n",
              "      <td>5</td>\n",
              "      <td>153</td>\n",
              "      <td>11</td>\n",
              "      <td>Ж</td>\n",
              "      <td>333</td>\n",
              "      <td>-+--100---00---100-+0--1---</td>\n",
              "      <td>0(3)0(3)0(3)0(3)0(3)</td>\n",
              "      <td>NaN</td>\n",
              "      <td>5</td>\n",
              "      <td>17</td>\n",
              "      <td>36</td>\n",
              "    </tr>\n",
              "    <tr>\n",
              "      <th>...</th>\n",
              "      <td>...</td>\n",
              "      <td>...</td>\n",
              "      <td>...</td>\n",
              "      <td>...</td>\n",
              "      <td>...</td>\n",
              "      <td>...</td>\n",
              "      <td>...</td>\n",
              "      <td>...</td>\n",
              "      <td>...</td>\n",
              "      <td>...</td>\n",
              "      <td>...</td>\n",
              "    </tr>\n",
              "    <tr>\n",
              "      <th>1175</th>\n",
              "      <td>1176</td>\n",
              "      <td>148</td>\n",
              "      <td>11</td>\n",
              "      <td>М</td>\n",
              "      <td>332</td>\n",
              "      <td>++++222+++22+++222++2++2+++</td>\n",
              "      <td>3(3)3(3)3(3)3(3)2(3)</td>\n",
              "      <td>NaN</td>\n",
              "      <td>51</td>\n",
              "      <td>98</td>\n",
              "      <td>36</td>\n",
              "    </tr>\n",
              "    <tr>\n",
              "      <th>1176</th>\n",
              "      <td>1177</td>\n",
              "      <td>148</td>\n",
              "      <td>11</td>\n",
              "      <td>М</td>\n",
              "      <td>330</td>\n",
              "      <td>++++222+++22+++222++2++2+++</td>\n",
              "      <td>3(3)3(3)3(3)3(3)2(3)</td>\n",
              "      <td>NaN</td>\n",
              "      <td>51</td>\n",
              "      <td>98</td>\n",
              "      <td>36</td>\n",
              "    </tr>\n",
              "    <tr>\n",
              "      <th>1177</th>\n",
              "      <td>1178</td>\n",
              "      <td>152</td>\n",
              "      <td>11</td>\n",
              "      <td>Ж</td>\n",
              "      <td>330</td>\n",
              "      <td>++++222+++22+++222++2++2+++</td>\n",
              "      <td>3(3)3(3)3(3)2(3)3(3)</td>\n",
              "      <td>NaN</td>\n",
              "      <td>51</td>\n",
              "      <td>98</td>\n",
              "      <td>36</td>\n",
              "    </tr>\n",
              "    <tr>\n",
              "      <th>1178</th>\n",
              "      <td>1179</td>\n",
              "      <td>147</td>\n",
              "      <td>11</td>\n",
              "      <td>М</td>\n",
              "      <td>332</td>\n",
              "      <td>++++222+++22+++222++2++2+++</td>\n",
              "      <td>3(3)3(3)3(3)3(3)3(3)</td>\n",
              "      <td>NaN</td>\n",
              "      <td>52</td>\n",
              "      <td>100</td>\n",
              "      <td>36</td>\n",
              "    </tr>\n",
              "    <tr>\n",
              "      <th>1179</th>\n",
              "      <td>1180</td>\n",
              "      <td>148</td>\n",
              "      <td>11</td>\n",
              "      <td>М</td>\n",
              "      <td>328</td>\n",
              "      <td>++++222+++22+++222++2++2+++</td>\n",
              "      <td>3(3)3(3)3(3)3(3)3(3)</td>\n",
              "      <td>NaN</td>\n",
              "      <td>52</td>\n",
              "      <td>100</td>\n",
              "      <td>36</td>\n",
              "    </tr>\n",
              "  </tbody>\n",
              "</table>\n",
              "<p>1180 rows × 11 columns</p>\n",
              "</div>"
            ],
            "text/plain": [
              "         № № школы Класс Пол Номер варианта    Задания с кратким ответом  \\\n",
              "0        1     152    11   М            333  ----001---00---000--1-+0---   \n",
              "1        2     140    12   Ж            332  ----100---01-+-000--0--1---   \n",
              "2        3     137    11   М            328  --+-010---00---101--0--1---   \n",
              "3        4     148    11   М            333  -+--000--+01---100--0--1---   \n",
              "4        5     153    11   Ж            333  -+--100---00---100-+0--1---   \n",
              "...    ...     ...   ...  ..            ...                          ...   \n",
              "1175  1176     148    11   М            332  ++++222+++22+++222++2++2+++   \n",
              "1176  1177     148    11   М            330  ++++222+++22+++222++2++2+++   \n",
              "1177  1178     152    11   Ж            330  ++++222+++22+++222++2++2+++   \n",
              "1178  1179     147    11   М            332  ++++222+++22+++222++2++2+++   \n",
              "1179  1180     148    11   М            328  ++++222+++22+++222++2++2+++   \n",
              "\n",
              "     Задания с развёрнутым ответом Устная часть Первичный балл Балл  \\\n",
              "0             0(3)0(3)0(3)0(3)0(3)          NaN              3   10   \n",
              "1             0(3)0(3)0(3)0(3)0(3)          NaN              4   14   \n",
              "2             0(3)0(3)0(3)0(3)0(3)          NaN              5   17   \n",
              "3             0(3)0(3)0(3)0(3)0(3)          NaN              5   17   \n",
              "4             0(3)0(3)0(3)0(3)0(3)          NaN              5   17   \n",
              "...                            ...          ...            ...  ...   \n",
              "1175          3(3)3(3)3(3)3(3)2(3)          NaN             51   98   \n",
              "1176          3(3)3(3)3(3)3(3)2(3)          NaN             51   98   \n",
              "1177          3(3)3(3)3(3)2(3)3(3)          NaN             51   98   \n",
              "1178          3(3)3(3)3(3)3(3)3(3)          NaN             52  100   \n",
              "1179          3(3)3(3)3(3)3(3)3(3)          NaN             52  100   \n",
              "\n",
              "     Минимальный балл  \n",
              "0                  36  \n",
              "1                  36  \n",
              "2                  36  \n",
              "3                  36  \n",
              "4                  36  \n",
              "...               ...  \n",
              "1175               36  \n",
              "1176               36  \n",
              "1177               36  \n",
              "1178               36  \n",
              "1179               36  \n",
              "\n",
              "[1180 rows x 11 columns]"
            ]
          },
          "metadata": {},
          "output_type": "display_data"
        }
      ],
      "source": [
        "var_3 = pd.read_excel(\"Вариант 3.xlsx\")\n",
        "var_3.columns = ['№','№ школы', 'Класс', 'Пол', 'Номер варианта', 'Задания с кратким ответом', 'Задания с развёрнутым ответом', 'Устная часть', 'Первичный балл', 'Балл', 'Минимальный балл']\n",
        "var_3 = var_3.iloc[2:, :] #убрал пустую строку (NaN) и строку с именами столбцов\n",
        "var_3 = var_3.reset_index(drop=True) #обнулил индексы\n",
        "average_point = var_3.loc[1180, 'Балл']\n",
        "var_3 = var_3.iloc[:-1, :] #убрал из датафрейма строку со средним баллом\n",
        "display(var_3)"
      ]
    },
    {
      "cell_type": "code",
      "execution_count": null,
      "id": "ebf9b007",
      "metadata": {
        "id": "ebf9b007",
        "outputId": "5ff64c2b-874e-4259-9c7e-c1f6c22aa706"
      },
      "outputs": [
        {
          "name": "stdout",
          "output_type": "stream",
          "text": [
            "<class 'pandas.core.frame.DataFrame'>\n",
            "RangeIndex: 1180 entries, 0 to 1179\n",
            "Data columns (total 11 columns):\n",
            " #   Column                         Non-Null Count  Dtype \n",
            "---  ------                         --------------  ----- \n",
            " 0   №                              1180 non-null   object\n",
            " 1   № школы                        1180 non-null   object\n",
            " 2   Класс                          1180 non-null   object\n",
            " 3   Пол                            1180 non-null   object\n",
            " 4   Номер варианта                 1180 non-null   object\n",
            " 5   Задания с кратким ответом      1180 non-null   object\n",
            " 6   Задания с развёрнутым ответом  1180 non-null   object\n",
            " 7   Устная часть                   0 non-null      object\n",
            " 8   Первичный балл                 1180 non-null   object\n",
            " 9   Балл                           1180 non-null   object\n",
            " 10  Минимальный балл               1180 non-null   object\n",
            "dtypes: object(11)\n",
            "memory usage: 101.5+ KB\n",
            "None\n"
          ]
        }
      ],
      "source": [
        "print(var_3.info())  #все данные в столбцах типа object, меняю на соответствующие"
      ]
    },
    {
      "cell_type": "code",
      "execution_count": null,
      "id": "e1c24ee1",
      "metadata": {
        "id": "e1c24ee1",
        "outputId": "daa80a1a-648a-444c-b605-e2697207a3e3"
      },
      "outputs": [
        {
          "name": "stdout",
          "output_type": "stream",
          "text": [
            "<class 'pandas.core.frame.DataFrame'>\n",
            "RangeIndex: 1180 entries, 0 to 1179\n",
            "Data columns (total 11 columns):\n",
            " #   Column                         Non-Null Count  Dtype \n",
            "---  ------                         --------------  ----- \n",
            " 0   №                              1180 non-null   int32 \n",
            " 1   № школы                        1180 non-null   int32 \n",
            " 2   Класс                          1180 non-null   object\n",
            " 3   Пол                            1180 non-null   object\n",
            " 4   Номер варианта                 1180 non-null   int32 \n",
            " 5   Задания с кратким ответом      1180 non-null   object\n",
            " 6   Задания с развёрнутым ответом  1180 non-null   object\n",
            " 7   Устная часть                   0 non-null      object\n",
            " 8   Первичный балл                 1180 non-null   int32 \n",
            " 9   Балл                           1180 non-null   int32 \n",
            " 10  Минимальный балл               1180 non-null   int32 \n",
            "dtypes: int32(6), object(5)\n",
            "memory usage: 73.9+ KB\n",
            "None\n"
          ]
        }
      ],
      "source": [
        "var_3[['№','№ школы', 'Номер варианта', 'Первичный балл', 'Балл', 'Минимальный балл']] = var_3[['№','№ школы', 'Номер варианта', 'Первичный балл', 'Балл', 'Минимальный балл']].astype(int)\n",
        "print(var_3.info())"
      ]
    },
    {
      "cell_type": "markdown",
      "id": "b8f417ba",
      "metadata": {
        "id": "b8f417ba"
      },
      "source": [
        "2. Сделайте описательную статистику полученных данных."
      ]
    },
    {
      "cell_type": "code",
      "execution_count": null,
      "id": "880d85c3",
      "metadata": {
        "id": "880d85c3",
        "outputId": "e878f45e-68d2-41b7-bb60-94446dafb0ed"
      },
      "outputs": [
        {
          "data": {
            "text/html": [
              "<div>\n",
              "<style scoped>\n",
              "    .dataframe tbody tr th:only-of-type {\n",
              "        vertical-align: middle;\n",
              "    }\n",
              "\n",
              "    .dataframe tbody tr th {\n",
              "        vertical-align: top;\n",
              "    }\n",
              "\n",
              "    .dataframe thead th {\n",
              "        text-align: right;\n",
              "    }\n",
              "</style>\n",
              "<table border=\"1\" class=\"dataframe\">\n",
              "  <thead>\n",
              "    <tr style=\"text-align: right;\">\n",
              "      <th></th>\n",
              "      <th>Первичный балл</th>\n",
              "      <th>Балл</th>\n",
              "    </tr>\n",
              "  </thead>\n",
              "  <tbody>\n",
              "    <tr>\n",
              "      <th>count</th>\n",
              "      <td>1180.000000</td>\n",
              "      <td>1180.000000</td>\n",
              "    </tr>\n",
              "    <tr>\n",
              "      <th>mean</th>\n",
              "      <td>23.699153</td>\n",
              "      <td>52.047458</td>\n",
              "    </tr>\n",
              "    <tr>\n",
              "      <th>std</th>\n",
              "      <td>10.480897</td>\n",
              "      <td>14.965477</td>\n",
              "    </tr>\n",
              "    <tr>\n",
              "      <th>min</th>\n",
              "      <td>3.000000</td>\n",
              "      <td>10.000000</td>\n",
              "    </tr>\n",
              "    <tr>\n",
              "      <th>25%</th>\n",
              "      <td>15.000000</td>\n",
              "      <td>41.000000</td>\n",
              "    </tr>\n",
              "    <tr>\n",
              "      <th>50%</th>\n",
              "      <td>22.000000</td>\n",
              "      <td>49.000000</td>\n",
              "    </tr>\n",
              "    <tr>\n",
              "      <th>75%</th>\n",
              "      <td>31.250000</td>\n",
              "      <td>60.250000</td>\n",
              "    </tr>\n",
              "    <tr>\n",
              "      <th>max</th>\n",
              "      <td>52.000000</td>\n",
              "      <td>100.000000</td>\n",
              "    </tr>\n",
              "  </tbody>\n",
              "</table>\n",
              "</div>"
            ],
            "text/plain": [
              "       Первичный балл         Балл\n",
              "count     1180.000000  1180.000000\n",
              "mean        23.699153    52.047458\n",
              "std         10.480897    14.965477\n",
              "min          3.000000    10.000000\n",
              "25%         15.000000    41.000000\n",
              "50%         22.000000    49.000000\n",
              "75%         31.250000    60.250000\n",
              "max         52.000000   100.000000"
            ]
          },
          "metadata": {},
          "output_type": "display_data"
        }
      ],
      "source": [
        "display(var_3[['Первичный балл','Балл']].describe()) #чтобы получить описательную статистику, надо было преобразовать столбцы к типу int"
      ]
    },
    {
      "cell_type": "markdown",
      "id": "d0cdf2f1",
      "metadata": {
        "id": "d0cdf2f1"
      },
      "source": [
        "3. Найдите процент учащихся, выполнивших работу ниже среднего."
      ]
    },
    {
      "cell_type": "code",
      "execution_count": null,
      "id": "3535fd61",
      "metadata": {
        "id": "3535fd61",
        "outputId": "ee1166c7-9c41-4f41-ffe4-e529d48b6758"
      },
      "outputs": [
        {
          "name": "stdout",
          "output_type": "stream",
          "text": [
            "Процент учащихся, выполнивших работу ниже среднего: 56.271186440677965%\n"
          ]
        }
      ],
      "source": [
        "print(f'Процент учащихся, выполнивших работу ниже среднего: {len(var_3[var_3[\"Балл\"] < average_point]) / len(var_3) * 100}%')"
      ]
    },
    {
      "cell_type": "markdown",
      "id": "fafeb2bb",
      "metadata": {
        "id": "fafeb2bb"
      },
      "source": [
        "4. Найти процент учащихся не сдавших экзамен."
      ]
    },
    {
      "cell_type": "code",
      "execution_count": null,
      "id": "dc83e45e",
      "metadata": {
        "id": "dc83e45e",
        "outputId": "5b0930f9-4aec-4c9f-d393-16b9080d0ed0"
      },
      "outputs": [
        {
          "name": "stdout",
          "output_type": "stream",
          "text": [
            "Процент учащихся не сдавших экзамен: 7.711864406779662%\n"
          ]
        }
      ],
      "source": [
        "below_low_level = var_3[var_3['Балл'] < var_3.loc[0, 'Минимальный балл']]\n",
        "print(f\"Процент учащихся не сдавших экзамен: {len(below_low_level) / len(var_3) * 100}%\")"
      ]
    },
    {
      "cell_type": "markdown",
      "id": "bc876535",
      "metadata": {
        "id": "bc876535"
      },
      "source": [
        "5. Постройте круговую диаграмму, показывающую распределение сдавших и не сдавших экзамен."
      ]
    },
    {
      "cell_type": "code",
      "execution_count": null,
      "id": "98f89a40",
      "metadata": {
        "id": "98f89a40"
      },
      "outputs": [],
      "source": [
        "import matplotlib.pyplot as plt\n",
        "import seaborn as sb"
      ]
    },
    {
      "cell_type": "code",
      "execution_count": null,
      "id": "745f1569",
      "metadata": {
        "id": "745f1569",
        "outputId": "a27b1386-caa6-4b39-8515-fd11cd2cadfd"
      },
      "outputs": [
        {
          "data": {
            "image/png": "[encoded data removed]",
            "text/plain": [
              "<Figure size 600x600 with 1 Axes>"
            ]
          },
          "metadata": {},
          "output_type": "display_data"
        }
      ],
      "source": [
        "fig, ax = plt.subplots(figsize=(6,6)) #задаем размер и ось\n",
        "ax.set_title('Распределение сдавших и не сдавших экзамен:',fontsize=15)\n",
        "labels = ['Cдавшие экзамен','Не сдавшие экзамен']\n",
        "values = [var_3['Балл'].count()-below_low_level['Балл'].count(), below_low_level['Балл'].count()]\n",
        "colors = ['green','red']\n",
        "ax.pie(values,labels=labels,colors=colors,autopct='%1.3f%%'); #экранирвоание знака процента чтобы он отображался должным образом"
      ]
    },
    {
      "cell_type": "markdown",
      "id": "db4d47af",
      "metadata": {
        "id": "db4d47af"
      },
      "source": [
        "6. Постройте ядерную оценку плотности распределению баллов за экзамен."
      ]
    },
    {
      "cell_type": "code",
      "execution_count": null,
      "id": "225f8c6f",
      "metadata": {
        "id": "225f8c6f",
        "outputId": "f4da75e7-dfd9-4d16-8170-285bc2cbb092"
      },
      "outputs": [
        {
          "data": {
            "image/png": "[encoded data removed]",
            "text/plain": [
              "<Figure size 600x600 with 1 Axes>"
            ]
          },
          "metadata": {},
          "output_type": "display_data"
        }
      ],
      "source": [
        "fig = plt.figure(figsize=(6,6))\n",
        "sb.kdeplot(data=var_3, x=\"Балл\", fill=True) #fill отвечает за заполнение цветом под графиком\n",
        "plt.title(\"Ядерная оценка плотности распределения баллов за экзамен\", fontsize=15)\n",
        "plt.show()"
      ]
    },
    {
      "cell_type": "markdown",
      "id": "78d8b488",
      "metadata": {
        "id": "78d8b488"
      },
      "source": [
        "7. Найдите процентное соотношение учащихся, сдавших экзамен на «отлично», «хорошо», «удовлетворительно», «неудовлетворительно»."
      ]
    },
    {
      "cell_type": "code",
      "execution_count": null,
      "id": "c709010a",
      "metadata": {
        "id": "c709010a",
        "outputId": "9b2644f7-32a2-433b-980c-52dee00201ea"
      },
      "outputs": [
        {
          "data": {
            "image/png": "[encoded data removed]",
            "text/plain": [
              "<Figure size 600x600 with 1 Axes>"
            ]
          },
          "metadata": {},
          "output_type": "display_data"
        }
      ],
      "source": [
        "five = var_3[var_3['Балл']>80]\n",
        "four = var_3[(var_3['Балл']<=80) & (var_3['Балл']>55)]\n",
        "three = var_3[(var_3['Балл']>=36) & (var_3['Балл']<=55)]\n",
        "two = var_3[var_3['Балл']<36]\n",
        "\n",
        "fig, ax = plt.subplots(figsize=(6,6))\n",
        "ax.set_title('Процентное соотношение учащихся, сдавших экзамен на «отлично», «хорошо», «удовлетворительно», «неудовлетворительно»', fontsize=15)\n",
        "labels = ['Отлично','Хорошо','Удовлетворительно','Неудовлетворительно']\n",
        "values = [five['Балл'].count(), four['Балл'].count(), three['Балл'].count(), two['Балл'].count()]\n",
        "colors = ['green','yellow','orange','red']\n",
        "ax.pie(values,labels=labels,colors=colors,autopct='%1.3f%%');"
      ]
    },
    {
      "cell_type": "markdown",
      "id": "b0163ba2",
      "metadata": {
        "id": "b0163ba2"
      },
      "source": [
        "8. Какое процентное соотношение юношей и девушек писало данный экзамен?"
      ]
    },
    {
      "cell_type": "code",
      "execution_count": null,
      "id": "e74572cd",
      "metadata": {
        "id": "e74572cd",
        "outputId": "42b2dfdd-f1ac-4f42-a2ee-b8dec0a5c8cf"
      },
      "outputs": [
        {
          "data": {
            "image/png": "[encoded data removed]",
            "text/plain": [
              "<Figure size 600x600 with 1 Axes>"
            ]
          },
          "metadata": {},
          "output_type": "display_data"
        }
      ],
      "source": [
        "men = var_3[var_3['Пол'] == 'М']\n",
        "women = var_3[var_3['Пол'] == 'Ж']\n",
        "\n",
        "\n",
        "fig, ax = plt.subplots(figsize=(6,6))\n",
        "ax.set_title('Процентное соотношение юношей и девушек, писавших данный экзамен', fontsize=15)\n",
        "labels = ['Юноши','Девушки']\n",
        "values = [men['Пол'].count(), women['Пол'].count()]\n",
        "colors = ['red','blue']\n",
        "ax.pie(values,labels=labels,colors=colors,autopct='%1.3f%%');"
      ]
    },
    {
      "cell_type": "markdown",
      "id": "1c92cd85",
      "metadata": {
        "id": "1c92cd85"
      },
      "source": [
        "9. Сколько школ принимало участие в экзамене?"
      ]
    },
    {
      "cell_type": "code",
      "execution_count": null,
      "id": "a6813efc",
      "metadata": {
        "id": "a6813efc",
        "outputId": "8ae45110-2286-437c-d044-4996a82fac92"
      },
      "outputs": [
        {
          "name": "stdout",
          "output_type": "stream",
          "text": [
            "Количество школ, принимавших участие в экзамене =  19\n"
          ]
        }
      ],
      "source": [
        "un_school=var_3['№ школы'].unique() #определяет уникальные элементы в данном столбце, хранит ndarray\n",
        "print('Количество школ, принимавших участие в экзамене = ',len(un_school))"
      ]
    },
    {
      "cell_type": "markdown",
      "id": "d5e2957d",
      "metadata": {
        "id": "d5e2957d"
      },
      "source": [
        "10. Сколько всего заданий с кратким ответом? С развернутым ответом?"
      ]
    },
    {
      "cell_type": "code",
      "execution_count": null,
      "id": "9d700b91",
      "metadata": {
        "id": "9d700b91",
        "outputId": "1598e5fd-54e1-44ec-8182-c2a239b07325"
      },
      "outputs": [
        {
          "name": "stdout",
          "output_type": "stream",
          "text": [
            "Задания с кратким ответом =  27\n",
            "Задания с развёрнутым ответом =  5\n"
          ]
        }
      ],
      "source": [
        "short_answers=var_3.loc[0, 'Задания с кратким ответом']\n",
        "print(\"Задания с кратким ответом = \", len(short_answers))\n",
        "long_answers=var_3.loc[0, 'Задания с развёрнутым ответом']\n",
        "print(\"Задания с развёрнутым ответом = \", long_answers.count('('))  #можно просто посчитать число скобок, отвечающих за число возможных баллов"
      ]
    },
    {
      "cell_type": "markdown",
      "id": "d9a8980e",
      "metadata": {
        "id": "d9a8980e"
      },
      "source": [
        "11. Пусть задания с кратким ответом будут задания типа В. Соответственно всего по экзамену вопросов класса В: В, ... Вк Посчитайте процент выполненных и невыполненных заданий по каждому вопросу класса В."
      ]
    },
    {
      "cell_type": "code",
      "execution_count": null,
      "id": "64951aaa",
      "metadata": {
        "id": "64951aaa",
        "outputId": "05027227-0dd9-4e75-df27-6a55ffa01412"
      },
      "outputs": [
        {
          "data": {
            "text/html": [
              "<div>\n",
              "<style scoped>\n",
              "    .dataframe tbody tr th:only-of-type {\n",
              "        vertical-align: middle;\n",
              "    }\n",
              "\n",
              "    .dataframe tbody tr th {\n",
              "        vertical-align: top;\n",
              "    }\n",
              "\n",
              "    .dataframe thead th {\n",
              "        text-align: right;\n",
              "    }\n",
              "</style>\n",
              "<table border=\"1\" class=\"dataframe\">\n",
              "  <thead>\n",
              "    <tr style=\"text-align: right;\">\n",
              "      <th></th>\n",
              "      <th>1</th>\n",
              "      <th>2</th>\n",
              "      <th>3</th>\n",
              "      <th>4</th>\n",
              "      <th>5</th>\n",
              "      <th>6</th>\n",
              "      <th>7</th>\n",
              "      <th>8</th>\n",
              "      <th>9</th>\n",
              "      <th>10</th>\n",
              "      <th>...</th>\n",
              "      <th>18</th>\n",
              "      <th>19</th>\n",
              "      <th>20</th>\n",
              "      <th>21</th>\n",
              "      <th>22</th>\n",
              "      <th>23</th>\n",
              "      <th>24</th>\n",
              "      <th>25</th>\n",
              "      <th>26</th>\n",
              "      <th>27</th>\n",
              "    </tr>\n",
              "  </thead>\n",
              "  <tbody>\n",
              "    <tr>\n",
              "      <th>ответ неправильный</th>\n",
              "      <td>14.661017</td>\n",
              "      <td>13.135593</td>\n",
              "      <td>37.79661</td>\n",
              "      <td>55.508475</td>\n",
              "      <td>17.033898</td>\n",
              "      <td>17.118644</td>\n",
              "      <td>19.067797</td>\n",
              "      <td>34.40678</td>\n",
              "      <td>26.016949</td>\n",
              "      <td>65.0</td>\n",
              "      <td>...</td>\n",
              "      <td>39.40678</td>\n",
              "      <td>18.050847</td>\n",
              "      <td>24.915254</td>\n",
              "      <td>20.59322</td>\n",
              "      <td>49.237288</td>\n",
              "      <td>37.966102</td>\n",
              "      <td>3.898305</td>\n",
              "      <td>70.084746</td>\n",
              "      <td>63.050847</td>\n",
              "      <td>70.254237</td>\n",
              "    </tr>\n",
              "    <tr>\n",
              "      <th>ответ правильный</th>\n",
              "      <td>85.338983</td>\n",
              "      <td>86.864407</td>\n",
              "      <td>62.20339</td>\n",
              "      <td>44.491525</td>\n",
              "      <td>82.966102</td>\n",
              "      <td>82.881356</td>\n",
              "      <td>80.932203</td>\n",
              "      <td>65.59322</td>\n",
              "      <td>73.983051</td>\n",
              "      <td>35.0</td>\n",
              "      <td>...</td>\n",
              "      <td>60.59322</td>\n",
              "      <td>81.949153</td>\n",
              "      <td>75.084746</td>\n",
              "      <td>79.40678</td>\n",
              "      <td>50.762712</td>\n",
              "      <td>62.033898</td>\n",
              "      <td>96.101695</td>\n",
              "      <td>29.915254</td>\n",
              "      <td>36.949153</td>\n",
              "      <td>29.745763</td>\n",
              "    </tr>\n",
              "  </tbody>\n",
              "</table>\n",
              "<p>2 rows × 27 columns</p>\n",
              "</div>"
            ],
            "text/plain": [
              "                           1          2         3          4          5   \\\n",
              "ответ неправильный  14.661017  13.135593  37.79661  55.508475  17.033898   \n",
              "ответ правильный    85.338983  86.864407  62.20339  44.491525  82.966102   \n",
              "\n",
              "                           6          7         8          9     10  ...  \\\n",
              "ответ неправильный  17.118644  19.067797  34.40678  26.016949  65.0  ...   \n",
              "ответ правильный    82.881356  80.932203  65.59322  73.983051  35.0  ...   \n",
              "\n",
              "                          18         19         20        21         22  \\\n",
              "ответ неправильный  39.40678  18.050847  24.915254  20.59322  49.237288   \n",
              "ответ правильный    60.59322  81.949153  75.084746  79.40678  50.762712   \n",
              "\n",
              "                           23         24         25         26         27  \n",
              "ответ неправильный  37.966102   3.898305  70.084746  63.050847  70.254237  \n",
              "ответ правильный    62.033898  96.101695  29.915254  36.949153  29.745763  \n",
              "\n",
              "[2 rows x 27 columns]"
            ]
          },
          "execution_count": 37,
          "metadata": {},
          "output_type": "execute_result"
        }
      ],
      "source": [
        "per_B_dict = {}\n",
        "for i in range(len(short_answers)): #прохожусь по строке с краткими ответами и во всем столбце смотрю, сколько раз встречатеся на данной позиции определенный символ\n",
        "    per_B_dict[i+1] = [var_3['Задания с кратким ответом'].where((var_3[\"Задания с кратким ответом\"].str[i] =='-') |\n",
        "                      (var_3[\"Задания с кратким ответом\"].str[i] =='0')).count()/len(var_3)*100,\n",
        "                       100 - var_3['Задания с кратким ответом'].where((var_3[\"Задания с кратким ответом\"].str[i] =='-') |\n",
        "                      (var_3[\"Задания с кратким ответом\"].str[i] =='0')).count()/len(var_3)*100]\n",
        "per_b_df = pd.DataFrame(data=per_B_dict, index=(\"ответ неправильный\", \"ответ правильный\")) #строю датафрейм на основе полученных данных\n",
        "per_b_df"
      ]
    },
    {
      "cell_type": "markdown",
      "id": "df6c93c5",
      "metadata": {
        "id": "df6c93c5"
      },
      "source": [
        "12. Аналогично и с типом С (ответы с развернутым ответом)"
      ]
    },
    {
      "cell_type": "code",
      "execution_count": null,
      "id": "aeeac446",
      "metadata": {
        "id": "aeeac446",
        "outputId": "cac987bc-47e1-45a4-84a0-29e537ddefd7"
      },
      "outputs": [
        {
          "data": {
            "text/html": [
              "<div>\n",
              "<style scoped>\n",
              "    .dataframe tbody tr th:only-of-type {\n",
              "        vertical-align: middle;\n",
              "    }\n",
              "\n",
              "    .dataframe tbody tr th {\n",
              "        vertical-align: top;\n",
              "    }\n",
              "\n",
              "    .dataframe thead th {\n",
              "        text-align: right;\n",
              "    }\n",
              "</style>\n",
              "<table border=\"1\" class=\"dataframe\">\n",
              "  <thead>\n",
              "    <tr style=\"text-align: right;\">\n",
              "      <th></th>\n",
              "      <th>Задания с развёрнутым ответом</th>\n",
              "    </tr>\n",
              "  </thead>\n",
              "  <tbody>\n",
              "    <tr>\n",
              "      <th>0</th>\n",
              "      <td>0303030303</td>\n",
              "    </tr>\n",
              "    <tr>\n",
              "      <th>1</th>\n",
              "      <td>0303030303</td>\n",
              "    </tr>\n",
              "    <tr>\n",
              "      <th>2</th>\n",
              "      <td>0303030303</td>\n",
              "    </tr>\n",
              "    <tr>\n",
              "      <th>3</th>\n",
              "      <td>0303030303</td>\n",
              "    </tr>\n",
              "    <tr>\n",
              "      <th>4</th>\n",
              "      <td>0303030303</td>\n",
              "    </tr>\n",
              "    <tr>\n",
              "      <th>...</th>\n",
              "      <td>...</td>\n",
              "    </tr>\n",
              "    <tr>\n",
              "      <th>1175</th>\n",
              "      <td>3333333323</td>\n",
              "    </tr>\n",
              "    <tr>\n",
              "      <th>1176</th>\n",
              "      <td>3333333323</td>\n",
              "    </tr>\n",
              "    <tr>\n",
              "      <th>1177</th>\n",
              "      <td>3333332333</td>\n",
              "    </tr>\n",
              "    <tr>\n",
              "      <th>1178</th>\n",
              "      <td>3333333333</td>\n",
              "    </tr>\n",
              "    <tr>\n",
              "      <th>1179</th>\n",
              "      <td>3333333333</td>\n",
              "    </tr>\n",
              "  </tbody>\n",
              "</table>\n",
              "<p>1180 rows × 1 columns</p>\n",
              "</div>"
            ],
            "text/plain": [
              "     Задания с развёрнутым ответом\n",
              "0                       0303030303\n",
              "1                       0303030303\n",
              "2                       0303030303\n",
              "3                       0303030303\n",
              "4                       0303030303\n",
              "...                            ...\n",
              "1175                    3333333323\n",
              "1176                    3333333323\n",
              "1177                    3333332333\n",
              "1178                    3333333333\n",
              "1179                    3333333333\n",
              "\n",
              "[1180 rows x 1 columns]"
            ]
          },
          "metadata": {},
          "output_type": "display_data"
        },
        {
          "data": {
            "text/html": [
              "<div>\n",
              "<style scoped>\n",
              "    .dataframe tbody tr th:only-of-type {\n",
              "        vertical-align: middle;\n",
              "    }\n",
              "\n",
              "    .dataframe tbody tr th {\n",
              "        vertical-align: top;\n",
              "    }\n",
              "\n",
              "    .dataframe thead th {\n",
              "        text-align: right;\n",
              "    }\n",
              "</style>\n",
              "<table border=\"1\" class=\"dataframe\">\n",
              "  <thead>\n",
              "    <tr style=\"text-align: right;\">\n",
              "      <th></th>\n",
              "      <th>1</th>\n",
              "      <th>2</th>\n",
              "      <th>3</th>\n",
              "      <th>4</th>\n",
              "      <th>5</th>\n",
              "    </tr>\n",
              "  </thead>\n",
              "  <tbody>\n",
              "    <tr>\n",
              "      <th>ответ неправильный</th>\n",
              "      <td>82.372881</td>\n",
              "      <td>61.779661</td>\n",
              "      <td>83.644068</td>\n",
              "      <td>76.610169</td>\n",
              "      <td>68.220339</td>\n",
              "    </tr>\n",
              "    <tr>\n",
              "      <th>ответ правильный</th>\n",
              "      <td>17.627119</td>\n",
              "      <td>38.220339</td>\n",
              "      <td>16.355932</td>\n",
              "      <td>23.389831</td>\n",
              "      <td>31.779661</td>\n",
              "    </tr>\n",
              "  </tbody>\n",
              "</table>\n",
              "</div>"
            ],
            "text/plain": [
              "                            1          2          3          4          5\n",
              "ответ неправильный  82.372881  61.779661  83.644068  76.610169  68.220339\n",
              "ответ правильный    17.627119  38.220339  16.355932  23.389831  31.779661"
            ]
          },
          "execution_count": 38,
          "metadata": {},
          "output_type": "execute_result"
        }
      ],
      "source": [
        "per_C_dict = {}\n",
        "c_type = (var_3['Задания с развёрнутым ответом'].apply(lambda x: x.replace('(', '')).apply(lambda x: x.replace(')', ''))).to_frame()\n",
        "display(c_type) #аналогично прошлому номеру подгоняю под тот же вид, убирая скобки; шаг 2, чтобы не учитывать позиции, отвечающие за максимально возможное число баллов\n",
        "ind = 1\n",
        "for i in range(0, len(c_type.iloc[0, 0]), 2):\n",
        "    per_C_dict[ind] = [c_type['Задания с развёрнутым ответом'].where\n",
        "                       (c_type['Задания с развёрнутым ответом'].str[i] =='0').count()/len(var_3)*100,\n",
        "                       100 - c_type['Задания с развёрнутым ответом'].where\n",
        "                       (c_type['Задания с развёрнутым ответом'].str[i] =='0').count()/len(var_3)*100]\n",
        "    ind += 1\n",
        "per_b_df = pd.DataFrame(data=per_C_dict, index=(\"ответ неправильный\", \"ответ правильный\"))\n",
        "per_b_df"
      ]
    },
    {
      "cell_type": "markdown",
      "id": "4916872b",
      "metadata": {
        "id": "4916872b"
      },
      "source": [
        "13. Сделайте анализ по двум школам:\n",
        "- по всем выполненным заданиям типа В"
      ]
    },
    {
      "cell_type": "code",
      "execution_count": null,
      "id": "e4351cc1",
      "metadata": {
        "id": "e4351cc1",
        "outputId": "f7e9ae23-f074-4f17-d7ca-8ef6b9565366"
      },
      "outputs": [
        {
          "name": "stdout",
          "output_type": "stream",
          "text": [
            "Кол-во учеников, у которых выполненны все задание типа 'B' в школе № 152 = 8\n",
            "Кол-во учеников, у которых выполненны все задание типа 'B' в школе № 140 = 0\n"
          ]
        }
      ],
      "source": [
        "school_152=var_3[var_3['№ школы']==152]\n",
        "school_140=var_3[var_3['№ школы']==140]\n",
        "b_152 = len(school_152[school_152['Задания с кратким ответом'].str.contains('0') +\n",
        "                       school_152['Задания с кратким ответом'].str.contains('-') == False])  #проверяю, чтобы в строке не было 0 и -\n",
        "b_140 = len(school_140[school_140['Задания с кратким ответом'].str.contains('0') +\n",
        "                       school_140['Задания с кратким ответом'].str.contains('-') == False])\n",
        "print(\"Кол-во учеников, у которых выполненны все задание типа 'B' в школе № 152 =\", b_152)\n",
        "print(\"Кол-во учеников, у которых выполненны все задание типа 'B' в школе № 140 =\", b_140)"
      ]
    },
    {
      "cell_type": "markdown",
      "id": "f9c23a19",
      "metadata": {
        "id": "f9c23a19"
      },
      "source": [
        "- по заданиям типа С больше 50%"
      ]
    },
    {
      "cell_type": "code",
      "execution_count": null,
      "id": "ee296431",
      "metadata": {
        "id": "ee296431",
        "outputId": "7051b428-ffef-425e-c399-daa8a4d76093"
      },
      "outputs": [
        {
          "name": "stdout",
          "output_type": "stream",
          "text": [
            "Кол-во учеников, у которых выполнено по заданиям C больше 50% в школе № 152 = 50\n",
            "Кол-во учеников, у которых  выполнено по заданиям C больше 50% в школе № 140 = 24\n"
          ]
        }
      ],
      "source": [
        "с_152 = len(school_152[school_152['Задания с развёрнутым ответом'].str.count('0') < 3])\n",
        "с_140 = len(school_140[school_140['Задания с развёрнутым ответом'].str.count('0') < 3])\n",
        "\n",
        "print(\"Кол-во учеников, у которых выполнено по заданиям C больше 50% в школе № 152 =\", с_152)\n",
        "print(\"Кол-во учеников, у которых  выполнено по заданиям C больше 50% в школе № 140 =\", с_140)"
      ]
    },
    {
      "cell_type": "markdown",
      "id": "2144674d",
      "metadata": {
        "id": "2144674d"
      },
      "source": [
        "- по среднему баллу юношей и девушек"
      ]
    },
    {
      "cell_type": "code",
      "execution_count": null,
      "id": "1c322361",
      "metadata": {
        "id": "1c322361",
        "outputId": "6c958dc9-7faf-4176-f398-d834f7219bbd"
      },
      "outputs": [
        {
          "name": "stdout",
          "output_type": "stream",
          "text": [
            "Средний балл юношей в школе 152: 53.89915966386555\n",
            "Средний балл девушек в школе 152: 58.11764705882353\n",
            "Средний балл юношей в школе 140: 50.64835164835165\n",
            "Средний балл девушек в школе 140: 49.54545454545455\n"
          ]
        }
      ],
      "source": [
        "school_152_men=var_3[(var_3['№ школы']==152) & (var_3['Пол']==\"М\")]['Балл'].mean()\n",
        "school_152_women=var_3[(var_3['№ школы']==152) & (var_3['Пол']==\"Ж\")]['Балл'].mean()\n",
        "school_140_men=var_3[(var_3['№ школы']==140) & (var_3['Пол']==\"М\")]['Балл'].mean()\n",
        "school_140_women=var_3[(var_3['№ школы']==140) & (var_3['Пол']==\"Ж\")]['Балл'].mean()\n",
        "print(f'Средний балл юношей в школе 152: {school_152_men}')\n",
        "print(f'Средний балл девушек в школе 152: {school_152_women}')\n",
        "print(f'Средний балл юношей в школе 140: {school_140_men}')\n",
        "print(f'Средний балл девушек в школе 140: {school_140_women}')\n"
      ]
    },
    {
      "cell_type": "markdown",
      "id": "24ed5fc5",
      "metadata": {
        "id": "24ed5fc5"
      },
      "source": [
        "14. Для каждого задания добавьте соответствующий раздел в ноутбук и текстовые пояснения."
      ]
    },
    {
      "cell_type": "code",
      "execution_count": null,
      "id": "b84e6a5d",
      "metadata": {
        "id": "b84e6a5d"
      },
      "outputs": [],
      "source": []
    }
  ],
  "metadata": {
    "kernelspec": {
      "display_name": "Python 3 (ipykernel)",
      "language": "python",
      "name": "python3"
    },
    "language_info": {
      "codemirror_mode": {
        "name": "ipython",
        "version": 3
      },
      "file_extension": ".py",
      "mimetype": "text/x-python",
      "name": "python",
      "nbconvert_exporter": "python",
      "pygments_lexer": "ipython3",
      "version": "3.8.15"
    },
    "colab": {
      "provenance": []
    }
  },
  "nbformat": 4,
  "nbformat_minor": 5
}