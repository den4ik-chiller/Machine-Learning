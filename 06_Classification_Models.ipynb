{
  "cells": [
    {
      "cell_type": "markdown",
      "id": "4e2a990a",
      "metadata": {
        "id": "4e2a990a"
      },
      "source": [
        "# Модели классификации\n"
      ]
    },
    {
      "cell_type": "code",
      "execution_count": null,
      "id": "595fd535",
      "metadata": {
        "id": "595fd535"
      },
      "outputs": [],
      "source": [
        "import pandas as pd"
      ]
    },
    {
      "cell_type": "code",
      "execution_count": null,
      "id": "a41e1d38",
      "metadata": {
        "id": "a41e1d38",
        "outputId": "cda6ad44-c447-4509-e7d9-3995f45ca17a"
      },
      "outputs": [
        {
          "data": {
            "text/html": [
              "<div>\n",
              "<style scoped>\n",
              "    .dataframe tbody tr th:only-of-type {\n",
              "        vertical-align: middle;\n",
              "    }\n",
              "\n",
              "    .dataframe tbody tr th {\n",
              "        vertical-align: top;\n",
              "    }\n",
              "\n",
              "    .dataframe thead th {\n",
              "        text-align: right;\n",
              "    }\n",
              "</style>\n",
              "<table border=\"1\" class=\"dataframe\">\n",
              "  <thead>\n",
              "    <tr style=\"text-align: right;\">\n",
              "      <th></th>\n",
              "      <th>Pregnancies</th>\n",
              "      <th>Glucose</th>\n",
              "      <th>BloodPressure</th>\n",
              "      <th>SkinThickness</th>\n",
              "      <th>Insulin</th>\n",
              "      <th>BMI</th>\n",
              "      <th>DiabetesPedigreeFunction</th>\n",
              "      <th>Age</th>\n",
              "      <th>Outcome</th>\n",
              "    </tr>\n",
              "  </thead>\n",
              "  <tbody>\n",
              "    <tr>\n",
              "      <th>0</th>\n",
              "      <td>6</td>\n",
              "      <td>148</td>\n",
              "      <td>72</td>\n",
              "      <td>35</td>\n",
              "      <td>0</td>\n",
              "      <td>33.6</td>\n",
              "      <td>0.627</td>\n",
              "      <td>50</td>\n",
              "      <td>1</td>\n",
              "    </tr>\n",
              "    <tr>\n",
              "      <th>1</th>\n",
              "      <td>1</td>\n",
              "      <td>85</td>\n",
              "      <td>66</td>\n",
              "      <td>29</td>\n",
              "      <td>0</td>\n",
              "      <td>26.6</td>\n",
              "      <td>0.351</td>\n",
              "      <td>31</td>\n",
              "      <td>0</td>\n",
              "    </tr>\n",
              "    <tr>\n",
              "      <th>2</th>\n",
              "      <td>8</td>\n",
              "      <td>183</td>\n",
              "      <td>64</td>\n",
              "      <td>0</td>\n",
              "      <td>0</td>\n",
              "      <td>23.3</td>\n",
              "      <td>0.672</td>\n",
              "      <td>32</td>\n",
              "      <td>1</td>\n",
              "    </tr>\n",
              "    <tr>\n",
              "      <th>3</th>\n",
              "      <td>1</td>\n",
              "      <td>89</td>\n",
              "      <td>66</td>\n",
              "      <td>23</td>\n",
              "      <td>94</td>\n",
              "      <td>28.1</td>\n",
              "      <td>0.167</td>\n",
              "      <td>21</td>\n",
              "      <td>0</td>\n",
              "    </tr>\n",
              "    <tr>\n",
              "      <th>4</th>\n",
              "      <td>0</td>\n",
              "      <td>137</td>\n",
              "      <td>40</td>\n",
              "      <td>35</td>\n",
              "      <td>168</td>\n",
              "      <td>43.1</td>\n",
              "      <td>2.288</td>\n",
              "      <td>33</td>\n",
              "      <td>1</td>\n",
              "    </tr>\n",
              "  </tbody>\n",
              "</table>\n",
              "</div>"
            ],
            "text/plain": [
              "   Pregnancies  Glucose  BloodPressure  SkinThickness  Insulin   BMI  \\\n",
              "0            6      148             72             35        0  33.6   \n",
              "1            1       85             66             29        0  26.6   \n",
              "2            8      183             64              0        0  23.3   \n",
              "3            1       89             66             23       94  28.1   \n",
              "4            0      137             40             35      168  43.1   \n",
              "\n",
              "   DiabetesPedigreeFunction  Age  Outcome  \n",
              "0                     0.627   50        1  \n",
              "1                     0.351   31        0  \n",
              "2                     0.672   32        1  \n",
              "3                     0.167   21        0  \n",
              "4                     2.288   33        1  "
            ]
          },
          "execution_count": 359,
          "metadata": {},
          "output_type": "execute_result"
        }
      ],
      "source": [
        "data = pd.read_csv(\"https://raw.githubusercontent.com/koroteevmv/ML_course/2023/ML2.1_classification/diabetes.csv\")\n",
        "\n",
        "data.head()"
      ]
    },
    {
      "cell_type": "code",
      "execution_count": null,
      "id": "f22c6a26",
      "metadata": {
        "id": "f22c6a26",
        "outputId": "a6d729cf-5cdb-473b-884f-6e363b6d4ac6"
      },
      "outputs": [
        {
          "name": "stdout",
          "output_type": "stream",
          "text": [
            "<class 'pandas.core.frame.DataFrame'>\n",
            "RangeIndex: 768 entries, 0 to 767\n",
            "Data columns (total 9 columns):\n",
            " #   Column                    Non-Null Count  Dtype  \n",
            "---  ------                    --------------  -----  \n",
            " 0   Pregnancies               768 non-null    int64  \n",
            " 1   Glucose                   768 non-null    int64  \n",
            " 2   BloodPressure             768 non-null    int64  \n",
            " 3   SkinThickness             768 non-null    int64  \n",
            " 4   Insulin                   768 non-null    int64  \n",
            " 5   BMI                       768 non-null    float64\n",
            " 6   DiabetesPedigreeFunction  768 non-null    float64\n",
            " 7   Age                       768 non-null    int64  \n",
            " 8   Outcome                   768 non-null    int64  \n",
            "dtypes: float64(2), int64(7)\n",
            "memory usage: 54.1 KB\n"
          ]
        }
      ],
      "source": [
        "# проверим данные на наличие проупущенных значений\n",
        "data.info()"
      ]
    },
    {
      "cell_type": "code",
      "execution_count": null,
      "id": "04f474cf",
      "metadata": {
        "scrolled": true,
        "id": "04f474cf",
        "outputId": "c83adfba-1864-47db-d388-286ed6ea8590"
      },
      "outputs": [
        {
          "data": {
            "text/html": [
              "<div>\n",
              "<style scoped>\n",
              "    .dataframe tbody tr th:only-of-type {\n",
              "        vertical-align: middle;\n",
              "    }\n",
              "\n",
              "    .dataframe tbody tr th {\n",
              "        vertical-align: top;\n",
              "    }\n",
              "\n",
              "    .dataframe thead th {\n",
              "        text-align: right;\n",
              "    }\n",
              "</style>\n",
              "<table border=\"1\" class=\"dataframe\">\n",
              "  <thead>\n",
              "    <tr style=\"text-align: right;\">\n",
              "      <th></th>\n",
              "      <th>Pregnancies</th>\n",
              "      <th>Glucose</th>\n",
              "      <th>BloodPressure</th>\n",
              "      <th>SkinThickness</th>\n",
              "      <th>Insulin</th>\n",
              "      <th>BMI</th>\n",
              "      <th>DiabetesPedigreeFunction</th>\n",
              "      <th>Age</th>\n",
              "      <th>Outcome</th>\n",
              "    </tr>\n",
              "  </thead>\n",
              "  <tbody>\n",
              "    <tr>\n",
              "      <th>count</th>\n",
              "      <td>768.000000</td>\n",
              "      <td>768.000000</td>\n",
              "      <td>768.000000</td>\n",
              "      <td>768.000000</td>\n",
              "      <td>768.000000</td>\n",
              "      <td>768.000000</td>\n",
              "      <td>768.000000</td>\n",
              "      <td>768.000000</td>\n",
              "      <td>768.000000</td>\n",
              "    </tr>\n",
              "    <tr>\n",
              "      <th>mean</th>\n",
              "      <td>3.845052</td>\n",
              "      <td>120.894531</td>\n",
              "      <td>69.105469</td>\n",
              "      <td>20.536458</td>\n",
              "      <td>79.799479</td>\n",
              "      <td>31.992578</td>\n",
              "      <td>0.471876</td>\n",
              "      <td>33.240885</td>\n",
              "      <td>0.348958</td>\n",
              "    </tr>\n",
              "    <tr>\n",
              "      <th>std</th>\n",
              "      <td>3.369578</td>\n",
              "      <td>31.972618</td>\n",
              "      <td>19.355807</td>\n",
              "      <td>15.952218</td>\n",
              "      <td>115.244002</td>\n",
              "      <td>7.884160</td>\n",
              "      <td>0.331329</td>\n",
              "      <td>11.760232</td>\n",
              "      <td>0.476951</td>\n",
              "    </tr>\n",
              "    <tr>\n",
              "      <th>min</th>\n",
              "      <td>0.000000</td>\n",
              "      <td>0.000000</td>\n",
              "      <td>0.000000</td>\n",
              "      <td>0.000000</td>\n",
              "      <td>0.000000</td>\n",
              "      <td>0.000000</td>\n",
              "      <td>0.078000</td>\n",
              "      <td>21.000000</td>\n",
              "      <td>0.000000</td>\n",
              "    </tr>\n",
              "    <tr>\n",
              "      <th>25%</th>\n",
              "      <td>1.000000</td>\n",
              "      <td>99.000000</td>\n",
              "      <td>62.000000</td>\n",
              "      <td>0.000000</td>\n",
              "      <td>0.000000</td>\n",
              "      <td>27.300000</td>\n",
              "      <td>0.243750</td>\n",
              "      <td>24.000000</td>\n",
              "      <td>0.000000</td>\n",
              "    </tr>\n",
              "    <tr>\n",
              "      <th>50%</th>\n",
              "      <td>3.000000</td>\n",
              "      <td>117.000000</td>\n",
              "      <td>72.000000</td>\n",
              "      <td>23.000000</td>\n",
              "      <td>30.500000</td>\n",
              "      <td>32.000000</td>\n",
              "      <td>0.372500</td>\n",
              "      <td>29.000000</td>\n",
              "      <td>0.000000</td>\n",
              "    </tr>\n",
              "    <tr>\n",
              "      <th>75%</th>\n",
              "      <td>6.000000</td>\n",
              "      <td>140.250000</td>\n",
              "      <td>80.000000</td>\n",
              "      <td>32.000000</td>\n",
              "      <td>127.250000</td>\n",
              "      <td>36.600000</td>\n",
              "      <td>0.626250</td>\n",
              "      <td>41.000000</td>\n",
              "      <td>1.000000</td>\n",
              "    </tr>\n",
              "    <tr>\n",
              "      <th>max</th>\n",
              "      <td>17.000000</td>\n",
              "      <td>199.000000</td>\n",
              "      <td>122.000000</td>\n",
              "      <td>99.000000</td>\n",
              "      <td>846.000000</td>\n",
              "      <td>67.100000</td>\n",
              "      <td>2.420000</td>\n",
              "      <td>81.000000</td>\n",
              "      <td>1.000000</td>\n",
              "    </tr>\n",
              "  </tbody>\n",
              "</table>\n",
              "</div>"
            ],
            "text/plain": [
              "       Pregnancies     Glucose  BloodPressure  SkinThickness     Insulin  \\\n",
              "count   768.000000  768.000000     768.000000     768.000000  768.000000   \n",
              "mean      3.845052  120.894531      69.105469      20.536458   79.799479   \n",
              "std       3.369578   31.972618      19.355807      15.952218  115.244002   \n",
              "min       0.000000    0.000000       0.000000       0.000000    0.000000   \n",
              "25%       1.000000   99.000000      62.000000       0.000000    0.000000   \n",
              "50%       3.000000  117.000000      72.000000      23.000000   30.500000   \n",
              "75%       6.000000  140.250000      80.000000      32.000000  127.250000   \n",
              "max      17.000000  199.000000     122.000000      99.000000  846.000000   \n",
              "\n",
              "              BMI  DiabetesPedigreeFunction         Age     Outcome  \n",
              "count  768.000000                768.000000  768.000000  768.000000  \n",
              "mean    31.992578                  0.471876   33.240885    0.348958  \n",
              "std      7.884160                  0.331329   11.760232    0.476951  \n",
              "min      0.000000                  0.078000   21.000000    0.000000  \n",
              "25%     27.300000                  0.243750   24.000000    0.000000  \n",
              "50%     32.000000                  0.372500   29.000000    0.000000  \n",
              "75%     36.600000                  0.626250   41.000000    1.000000  \n",
              "max     67.100000                  2.420000   81.000000    1.000000  "
            ]
          },
          "execution_count": 361,
          "metadata": {},
          "output_type": "execute_result"
        }
      ],
      "source": [
        "data.describe()"
      ]
    },
    {
      "cell_type": "code",
      "execution_count": null,
      "id": "eaa6bef2",
      "metadata": {
        "id": "eaa6bef2"
      },
      "outputs": [],
      "source": [
        "y = data.Outcome # целевая переменная\n",
        "X = data.drop([\"Outcome\"], axis=1) # факторы"
      ]
    },
    {
      "cell_type": "code",
      "execution_count": null,
      "id": "866470e5",
      "metadata": {
        "id": "866470e5"
      },
      "outputs": [],
      "source": [
        "from sklearn.model_selection import train_test_split #разбиение на обучающую и тестовую выборки\n",
        "\n",
        "X_train, X_test, y_train, y_test = train_test_split(X, y, test_size=0.2, random_state=42)"
      ]
    },
    {
      "cell_type": "code",
      "execution_count": null,
      "id": "558ed784",
      "metadata": {
        "id": "558ed784",
        "outputId": "0a0c78f3-6cb2-4c83-ebf9-dbca6efc98ef"
      },
      "outputs": [
        {
          "data": {
            "text/plain": [
              "((768,), (768, 8))"
            ]
          },
          "execution_count": 364,
          "metadata": {},
          "output_type": "execute_result"
        }
      ],
      "source": [
        "y.shape, X.shape"
      ]
    },
    {
      "cell_type": "code",
      "execution_count": null,
      "id": "2012c9e5",
      "metadata": {
        "id": "2012c9e5"
      },
      "outputs": [],
      "source": [
        "from sklearn.linear_model import LogisticRegression\n",
        "logistic = LogisticRegression()"
      ]
    },
    {
      "cell_type": "code",
      "execution_count": null,
      "id": "179ae67e",
      "metadata": {
        "id": "179ae67e",
        "outputId": "2f6a5523-4651-475e-9e53-73cef4c46cf7"
      },
      "outputs": [
        {
          "name": "stderr",
          "output_type": "stream",
          "text": [
            "C:\\Users\\user\\anaconda3\\lib\\site-packages\\sklearn\\linear_model\\_logistic.py:814: ConvergenceWarning: lbfgs failed to converge (status=1):\n",
            "STOP: TOTAL NO. of ITERATIONS REACHED LIMIT.\n",
            "\n",
            "Increase the number of iterations (max_iter) or scale the data as shown in:\n",
            "    https://scikit-learn.org/stable/modules/preprocessing.html\n",
            "Please also refer to the documentation for alternative solver options:\n",
            "    https://scikit-learn.org/stable/modules/linear_model.html#logistic-regression\n",
            "  n_iter_i = _check_optimize_result(\n"
          ]
        },
        {
          "data": {
            "text/plain": [
              "LogisticRegression()"
            ]
          },
          "execution_count": 366,
          "metadata": {},
          "output_type": "execute_result"
        }
      ],
      "source": [
        "logistic.fit(X_train, y_train)"
      ]
    },
    {
      "cell_type": "markdown",
      "id": "bb876ff7",
      "metadata": {
        "id": "bb876ff7"
      },
      "source": [
        "Смысл этого сообщения в том, что процесс обучения завершился по условию достижения максимального количества итераций, а не по условию стабилизации функции ошибки. Это значит, что модель обучается трудно и медленно. Это может свидетельствовать о том, что результаты могут быть не очень удовлетворительными."
      ]
    },
    {
      "cell_type": "code",
      "execution_count": null,
      "id": "cb2a84d4",
      "metadata": {
        "id": "cb2a84d4",
        "outputId": "cbbb45ec-e54d-498e-b0ff-10f8aaedd1f9"
      },
      "outputs": [
        {
          "name": "stdout",
          "output_type": "stream",
          "text": [
            "Coefficients: \n",
            " [ 0.06578072  0.03383873 -0.01358047  0.00417869 -0.00180471  0.10095239\n",
            "  0.61796629  0.03483591]\n"
          ]
        }
      ],
      "source": [
        "print(\"Coefficients: \\n\", logistic.coef_[0])\n",
        "\n",
        "# В линейных моделях коэффициенты имеют физический смысл - они показывают значимость соответствующих признаков."
      ]
    },
    {
      "cell_type": "code",
      "execution_count": null,
      "id": "a2bfd58f",
      "metadata": {
        "id": "a2bfd58f",
        "outputId": "8e4645e8-6c08-4128-a2d3-5de6518610cf"
      },
      "outputs": [
        {
          "name": "stdout",
          "output_type": "stream",
          "text": [
            "Pregnancies 0.06578071846675132\n",
            "Glucose 0.0338387287271113\n",
            "BloodPressure -0.013580473827176486\n",
            "SkinThickness 0.004178688517751481\n",
            "Insulin -0.001804709634403133\n",
            "BMI 0.1009523904160635\n",
            "DiabetesPedigreeFunction 0.6179662866503458\n",
            "Age 0.034835908169221164\n"
          ]
        }
      ],
      "source": [
        "_ = [print(k, v) for k, v in zip(X.columns, logistic.coef_[0])]"
      ]
    },
    {
      "cell_type": "code",
      "execution_count": null,
      "id": "f554e93f",
      "metadata": {
        "id": "f554e93f",
        "outputId": "9cc18ad4-5efb-4f7a-93db-854fce3ea126"
      },
      "outputs": [
        {
          "name": "stdout",
          "output_type": "stream",
          "text": [
            "Intercept: \n",
            " [-8.87929147]\n"
          ]
        }
      ],
      "source": [
        "print(\"Intercept: \\n\", logistic.intercept_)"
      ]
    },
    {
      "cell_type": "code",
      "execution_count": null,
      "id": "cfc8a2e8",
      "metadata": {
        "id": "cfc8a2e8"
      },
      "outputs": [],
      "source": [
        "y_pred = logistic.predict(X_test)"
      ]
    },
    {
      "cell_type": "code",
      "execution_count": null,
      "id": "acc22743",
      "metadata": {
        "id": "acc22743",
        "outputId": "cfbea41f-39c2-459f-eb0b-be5d4db27423"
      },
      "outputs": [
        {
          "name": "stdout",
          "output_type": "stream",
          "text": [
            "1 0\n",
            "0 0\n",
            "1 0\n",
            "0 0\n",
            "1 0\n",
            "0 0\n",
            "1 0\n",
            "0 1\n",
            "1 1\n",
            "1 1\n"
          ]
        }
      ],
      "source": [
        "_ = [print(a, b) for a, b in list(zip(y, y_pred))[:10]]"
      ]
    },
    {
      "cell_type": "code",
      "execution_count": null,
      "id": "e2c7c040",
      "metadata": {
        "id": "e2c7c040",
        "outputId": "423ca8f9-c33e-4fac-f61f-4bcd28c11d80"
      },
      "outputs": [
        {
          "data": {
            "text/plain": [
              "array([[78, 21],\n",
              "       [18, 37]], dtype=int64)"
            ]
          },
          "execution_count": 372,
          "metadata": {},
          "output_type": "execute_result"
        }
      ],
      "source": [
        "from sklearn import metrics\n",
        "metrics.confusion_matrix(y_test, y_pred)"
      ]
    },
    {
      "cell_type": "code",
      "execution_count": null,
      "id": "11be1b69",
      "metadata": {
        "id": "11be1b69",
        "outputId": "14669e84-e84d-455d-cfc1-414a32bfaaf8"
      },
      "outputs": [
        {
          "data": {
            "image/png": "[encoded data removed]",
            "text/plain": [
              "<Figure size 640x480 with 2 Axes>"
            ]
          },
          "metadata": {},
          "output_type": "display_data"
        }
      ],
      "source": [
        "import seaborn as sns\n",
        "sns.heatmap(metrics.confusion_matrix(y_test, y_pred), annot=True);"
      ]
    },
    {
      "cell_type": "code",
      "execution_count": null,
      "id": "d1c7d954",
      "metadata": {
        "id": "d1c7d954",
        "outputId": "8444d554-35da-4fe0-836f-d6fa09b15c98"
      },
      "outputs": [
        {
          "data": {
            "text/plain": [
              "0.7467532467532467"
            ]
          },
          "execution_count": 374,
          "metadata": {},
          "output_type": "execute_result"
        }
      ],
      "source": [
        "logistic.score(X_test, y_test)"
      ]
    },
    {
      "cell_type": "code",
      "execution_count": null,
      "id": "e29b2a54",
      "metadata": {
        "id": "e29b2a54",
        "outputId": "7b22ba45-5a3b-45a5-d9d8-51fa0daa7599"
      },
      "outputs": [
        {
          "data": {
            "text/plain": [
              "0.7467532467532467"
            ]
          },
          "execution_count": 375,
          "metadata": {},
          "output_type": "execute_result"
        }
      ],
      "source": [
        "metrics.accuracy_score(y_test, y_pred)"
      ]
    },
    {
      "cell_type": "code",
      "execution_count": null,
      "id": "63a26efc",
      "metadata": {
        "id": "63a26efc"
      },
      "outputs": [],
      "source": [
        "from sklearn.preprocessing import PolynomialFeatures"
      ]
    },
    {
      "cell_type": "code",
      "execution_count": null,
      "id": "f149d86e",
      "metadata": {
        "id": "f149d86e"
      },
      "outputs": [],
      "source": [
        "poly = PolynomialFeatures(2)"
      ]
    },
    {
      "cell_type": "code",
      "execution_count": null,
      "id": "9038edad",
      "metadata": {
        "id": "9038edad"
      },
      "outputs": [],
      "source": [
        "poly_train = poly.fit_transform(X_train)\n",
        "poly_test = poly.fit_transform(X_test)"
      ]
    },
    {
      "cell_type": "code",
      "execution_count": null,
      "id": "07dd9845",
      "metadata": {
        "id": "07dd9845",
        "outputId": "2969121c-cb40-44b9-bf9c-b28e0ce18a92"
      },
      "outputs": [
        {
          "name": "stderr",
          "output_type": "stream",
          "text": [
            "C:\\Users\\user\\anaconda3\\lib\\site-packages\\sklearn\\linear_model\\_logistic.py:814: ConvergenceWarning: lbfgs failed to converge (status=1):\n",
            "STOP: TOTAL NO. of ITERATIONS REACHED LIMIT.\n",
            "\n",
            "Increase the number of iterations (max_iter) or scale the data as shown in:\n",
            "    https://scikit-learn.org/stable/modules/preprocessing.html\n",
            "Please also refer to the documentation for alternative solver options:\n",
            "    https://scikit-learn.org/stable/modules/linear_model.html#logistic-regression\n",
            "  n_iter_i = _check_optimize_result(\n"
          ]
        }
      ],
      "source": [
        "polynomial = LogisticRegression()\n",
        "polynomial.fit(poly_train, y_train)\n",
        "y_pred_poly = polynomial.predict(poly_test)"
      ]
    },
    {
      "cell_type": "code",
      "execution_count": null,
      "id": "2ba300d0",
      "metadata": {
        "id": "2ba300d0",
        "outputId": "87add1ca-1496-4160-eeea-e52c54ed5bc5"
      },
      "outputs": [
        {
          "data": {
            "image/png": "[encoded data removed]",
            "text/plain": [
              "<Figure size 640x480 with 2 Axes>"
            ]
          },
          "metadata": {},
          "output_type": "display_data"
        }
      ],
      "source": [
        "sns.heatmap(metrics.confusion_matrix(y_test, y_pred_poly), annot=True);"
      ]
    },
    {
      "cell_type": "code",
      "execution_count": null,
      "id": "d8c74ab0",
      "metadata": {
        "id": "d8c74ab0",
        "outputId": "ddc751f3-c02c-4717-93cb-b570786aa9e7"
      },
      "outputs": [
        {
          "data": {
            "text/plain": [
              "0.7142857142857143"
            ]
          },
          "execution_count": 381,
          "metadata": {},
          "output_type": "execute_result"
        }
      ],
      "source": [
        "metrics.accuracy_score(y_test, y_pred_poly)"
      ]
    },
    {
      "cell_type": "code",
      "execution_count": null,
      "id": "ad38a35a",
      "metadata": {
        "id": "ad38a35a",
        "outputId": "4c6cc1af-e980-439a-ddb0-f58c11f2c4df"
      },
      "outputs": [
        {
          "data": {
            "text/plain": [
              "0.7142857142857143"
            ]
          },
          "execution_count": 382,
          "metadata": {},
          "output_type": "execute_result"
        }
      ],
      "source": [
        "polynomial.score(poly_test, y_test)"
      ]
    },
    {
      "cell_type": "markdown",
      "id": "78d40267",
      "metadata": {
        "id": "78d40267"
      },
      "source": [
        "#### Задания для самостоятельного выполнения"
      ]
    },
    {
      "cell_type": "markdown",
      "id": "0e01f27d",
      "metadata": {
        "id": "0e01f27d"
      },
      "source": [
        "1. Изучите документацию sklearn, посвященную классу LogisticRegression. Какую еще информацию можно вывести для обученной модели? Попробуйте изменить аргументы при создании модели и посмотрите, как это влияет на качество предсказания."
      ]
    },
    {
      "cell_type": "code",
      "execution_count": null,
      "id": "4a3b4cd5",
      "metadata": {
        "id": "4a3b4cd5",
        "outputId": "3947683f-ba4d-42b9-e256-e793070d0735"
      },
      "outputs": [
        {
          "data": {
            "text/plain": [
              "array([[0.99321249, 0.00678751],\n",
              "       [0.5323926 , 0.4676074 ],\n",
              "       [0.67637266, 0.32362734],\n",
              "       ...,\n",
              "       [0.30743865, 0.69256135],\n",
              "       [0.21260818, 0.78739182],\n",
              "       [0.94203952, 0.05796048]])"
            ]
          },
          "execution_count": 383,
          "metadata": {},
          "output_type": "execute_result"
        }
      ],
      "source": [
        "logistic.predict_proba(X_train) #вероятность принадлежности объекта к каждому классу"
      ]
    },
    {
      "cell_type": "code",
      "execution_count": null,
      "id": "f945f39e",
      "metadata": {
        "id": "f945f39e",
        "outputId": "1ed0fe86-58d6-44c2-bac5-6d720eec4980"
      },
      "outputs": [
        {
          "data": {
            "text/plain": [
              "array([0, 1], dtype=int64)"
            ]
          },
          "execution_count": 384,
          "metadata": {},
          "output_type": "execute_result"
        }
      ],
      "source": [
        "logistic.classes_ #метки классов"
      ]
    },
    {
      "cell_type": "code",
      "execution_count": null,
      "id": "124bc4fd",
      "metadata": {
        "id": "124bc4fd",
        "outputId": "b9fb4ecb-f1d0-4eb3-ea98-e0254492be98"
      },
      "outputs": [
        {
          "data": {
            "text/plain": [
              "array([-4.98586100e+00, -1.29752117e-01, -7.37151535e-01,  5.21874983e-01,\n",
              "        8.63741685e-01, -1.82754377e+00,  1.59728949e-01,  5.73997634e-01,\n",
              "       -1.42644746e+00, -4.03415848e+00, -1.82874778e+00,  1.79572359e+00,\n",
              "       -2.95560791e+00, -9.22811617e-01,  1.17446539e+00,  2.80267382e-01,\n",
              "        4.33595016e-01, -1.50650268e+00, -7.06600678e-01,  9.30063006e-01,\n",
              "        2.27950337e-01, -2.38615757e+00, -9.55317966e-01, -9.65816530e-01,\n",
              "       -1.28373238e+00, -8.77506152e-01,  2.79432784e-02,  1.19628896e-01,\n",
              "       -5.13909612e-01,  1.19429836e+00,  5.58047002e-01, -2.21782777e+00,\n",
              "       -3.05305459e+00, -1.96002888e+00,  1.52824666e+00, -4.97889389e-01,\n",
              "       -2.55813522e+00, -2.39977797e+00,  2.37881769e+00, -1.33518617e+00,\n",
              "       -2.38900262e+00, -2.81147251e+00, -5.26513605e+00, -2.62546090e+00,\n",
              "       -1.07516906e+00,  6.97966765e-01, -1.84105306e+00, -2.01629918e+00,\n",
              "       -5.48359031e-01, -9.77860613e-01,  7.18283913e-01, -2.25051844e+00,\n",
              "       -2.02274637e+00, -1.07209322e+00,  1.99102153e+00,  6.37863605e-01,\n",
              "       -1.06107352e+00, -1.44553390e+00, -1.65317479e+00, -2.03472367e+00,\n",
              "        9.09531460e-01, -2.36733026e+00,  7.37457808e-01, -8.30305505e-01,\n",
              "       -7.70503230e-01,  1.84096575e+00,  3.41691792e-01, -2.00299952e+00,\n",
              "       -2.40328033e+00, -1.70117749e+00, -2.60884256e+00,  1.12026699e+00,\n",
              "       -6.58430258e-01, -8.13565159e-01, -9.29945820e-01, -1.39752192e+00,\n",
              "       -2.03312109e+00, -3.10329337e+00, -1.64165886e+00, -1.78302196e-01,\n",
              "       -9.02792535e-01, -9.26253369e-02, -1.99678382e+00, -1.19818364e+00,\n",
              "       -6.86014022e-01,  9.02485118e-01, -2.22054343e+00, -2.83103059e+00,\n",
              "        1.64960451e-02, -2.14831862e+00, -1.35797729e+00, -8.66164545e-01,\n",
              "        1.29287179e+00, -2.29324998e+00, -6.89484434e-01, -1.23772118e+00,\n",
              "       -1.75754704e+00, -6.06369316e+00,  6.20809526e-01, -2.90119122e+00,\n",
              "       -1.42207712e+00,  8.23408582e-01, -1.96944083e+00, -4.73034491e-01,\n",
              "       -2.18675764e+00, -2.57311299e+00,  1.33020564e-01, -8.59031599e-02,\n",
              "       -1.81870633e+00, -3.27089874e+00, -1.58953775e+00, -2.17964599e+00,\n",
              "       -6.97090369e-01, -1.06524597e+00, -2.79184494e+00, -8.14722270e-01,\n",
              "       -1.28714349e+00, -1.24117606e+00,  8.80930920e-01,  4.60214013e-01,\n",
              "       -3.17770916e-01, -1.74044068e+00, -2.42357934e+00,  7.94676477e-01,\n",
              "       -1.95025540e+00, -1.95994472e+00, -1.24382427e+00,  1.03371954e+00,\n",
              "        1.81092669e+00,  2.58239496e+00, -1.89714346e+00, -8.68243636e-01,\n",
              "        1.56534674e+00,  1.11675295e+00, -3.22648819e+00,  1.52683222e+00,\n",
              "       -1.61082338e+00, -1.41648260e+00,  1.82643009e+00, -9.53455529e-01,\n",
              "       -2.53523717e-01, -1.89657182e+00, -1.78976983e+00,  1.36808076e+00,\n",
              "       -5.92537110e-01, -9.97506154e-01, -1.09543669e+00,  3.33373791e-01,\n",
              "        1.04757788e+00, -3.25241071e+00, -2.54749468e+00, -3.19672666e+00,\n",
              "       -5.35347351e+00,  2.80078878e-01, -4.66935389e+00, -3.40242290e+00,\n",
              "       -2.21767551e+00,  2.71620192e+00,  1.36327480e+00, -3.71523600e+00,\n",
              "       -6.75043338e-01, -2.13560113e+00,  1.35587521e+00, -2.14533869e+00,\n",
              "       -3.21565690e+00, -2.59060296e+00, -3.95575017e-01, -8.10365846e-01,\n",
              "        3.25123765e+00, -3.60446284e+00, -1.48235020e+00, -5.19356831e-01,\n",
              "       -1.40638380e+00, -1.18066324e+00, -1.25127586e-01, -6.03537042e+00,\n",
              "       -1.10870674e+00, -2.45419145e+00, -3.45343351e+00, -9.55945300e-01,\n",
              "       -1.44752508e+00, -2.54782842e+00,  2.06942224e+00,  1.03187980e+00,\n",
              "       -1.99715825e+00, -1.88568657e+00,  5.18348191e-01, -2.24132965e+00,\n",
              "       -8.72777508e-01,  9.46891837e-01,  1.21324526e+00,  2.75012214e+00,\n",
              "       -3.42950646e+00, -1.95508396e+00, -2.22739598e+00, -7.38599660e-01,\n",
              "       -1.55868034e+00, -4.67242210e-01,  2.14380204e+00,  1.49209542e+00,\n",
              "       -9.19689425e-01, -1.00738735e+00,  3.12784637e-02, -8.62110832e-01,\n",
              "       -1.33246334e+00, -3.71069637e-01,  9.24192127e-02,  1.12882777e+00,\n",
              "        1.49651748e-01, -6.19949754e-01, -2.82026534e+00, -2.42035020e+00,\n",
              "       -2.05191071e+00, -2.28181117e+00, -3.25072331e-01, -2.76502572e-01,\n",
              "       -3.86131481e+00, -4.01872741e+00,  5.11740516e-01,  5.28725015e-01,\n",
              "        6.79570870e-01, -2.42276487e+00,  1.75860843e-02, -2.22334766e-01,\n",
              "       -1.21749547e+00, -5.13196608e-01, -2.98079307e-01,  1.56629092e+00,\n",
              "        4.75334229e+00,  1.27641495e+00, -8.35317787e-01, -1.53244390e+00,\n",
              "        5.61990842e-01, -1.10140819e+00, -3.61642470e+00, -1.17069202e+00,\n",
              "       -7.35123797e-01, -3.00692254e+00, -1.75289602e+00,  1.10201983e+00,\n",
              "        5.97903158e-01,  2.85226593e+00, -6.18271958e-02,  1.30003202e+00,\n",
              "        9.85731031e-01, -5.94476517e-02, -6.73803102e-01, -1.58887350e+00,\n",
              "       -2.69708553e+00, -1.57098809e+00, -1.56052683e+00, -1.29136106e+00,\n",
              "       -4.63598540e-01,  1.57089751e+00, -2.89825471e-01, -1.25077256e+00,\n",
              "       -9.85975648e-01, -1.44154107e+00, -1.22658396e+00, -7.16414054e-01,\n",
              "       -1.59052860e+00,  1.77758975e+00,  1.00760707e+00, -3.01417752e+00,\n",
              "        2.01749395e+00, -6.03167644e-01, -1.30807639e+00, -3.46597402e-01,\n",
              "       -1.43408304e+00, -2.05553362e+00, -1.34242387e+00, -1.39357014e+00,\n",
              "        2.33252545e+00, -3.09453480e-01, -7.49471913e-01, -2.17790574e+00,\n",
              "       -2.33119397e+00, -1.74059662e+00,  1.49058962e+00,  3.36758325e+00,\n",
              "       -3.49546233e-02, -4.17145843e-01, -2.36312701e+00, -2.28858657e+00,\n",
              "       -7.57029485e-02, -2.34151079e+00, -3.42107254e-01, -1.25456474e+00,\n",
              "        1.72354825e+00, -3.82713721e+00, -2.39328449e-01, -4.57533551e-01,\n",
              "       -4.29933926e-01,  1.18431523e-01, -1.57797018e+00,  5.84238203e-01,\n",
              "       -1.37319688e+00, -1.25352055e+00,  4.03396850e-01,  3.02063780e+00,\n",
              "       -1.97084822e+00, -2.66701049e+00,  6.82671015e-01,  1.61082278e+00,\n",
              "       -1.53939784e+00, -1.40116397e+00, -3.11832198e+00, -4.46584642e-01,\n",
              "       -2.07137076e+00, -1.11583388e+00, -1.55912784e-01, -2.78643442e+00,\n",
              "       -4.16287378e+00, -1.22326770e+00, -1.87638074e+00,  7.28057749e-01,\n",
              "        2.75904556e+00,  3.41990249e-01, -1.03835296e+00, -1.20459408e-01,\n",
              "       -2.01734077e-01, -4.56298599e-01,  4.95938768e-01, -2.14238421e+00,\n",
              "       -3.10019142e+00, -2.11534920e+00, -2.04413816e+00, -3.31892811e+00,\n",
              "       -1.01612331e+00,  2.62999602e-01, -1.93461771e+00,  1.17332283e+00,\n",
              "        6.69492927e-01, -2.25306014e+00, -1.55486640e-01,  9.99681140e-02,\n",
              "       -2.55198714e+00,  1.15763624e+00, -3.37453390e+00,  6.88505509e-01,\n",
              "       -3.32551020e-01, -3.48829241e+00, -2.64910554e-01, -5.18599538e-01,\n",
              "       -3.78486207e-01, -2.18148715e+00,  1.74557410e+00, -1.72388987e+00,\n",
              "       -2.96907830e-01,  1.53328046e+00,  1.48800242e+00, -1.30011482e+00,\n",
              "        1.12992425e+00,  1.66673889e+00, -1.44563208e-01, -1.30318847e+00,\n",
              "       -2.47372772e+00, -2.12971618e+00,  7.37309603e-02, -1.67688806e+00,\n",
              "       -8.99195157e-01, -2.26801900e+00, -1.30628368e+00, -1.65175501e+00,\n",
              "       -9.74515589e-01, -5.63789714e-01,  1.32146626e+00, -1.83608571e+00,\n",
              "       -2.37240985e+00, -1.13906422e+00,  6.35671231e-01, -1.86160460e+00,\n",
              "       -2.12749472e-01, -3.35105999e+00, -2.84930798e+00, -1.49638012e+00,\n",
              "       -3.11615431e+00,  1.69215890e+00, -1.87453693e+00, -2.11879567e+00,\n",
              "       -2.57855074e-01,  1.22980215e+00, -3.05370554e+00, -2.21004424e+00,\n",
              "        1.19893973e+00, -1.62697041e+00,  3.12346976e-01, -1.83436713e+00,\n",
              "       -2.12684573e+00,  4.55121328e-01, -3.08553923e+00,  7.78333146e-01,\n",
              "       -1.32937067e+00, -1.76357561e+00, -1.76655940e+00, -6.25006968e-01,\n",
              "       -5.17375300e-01, -1.17171457e+00, -2.26274354e+00, -2.09813342e+00,\n",
              "       -2.43142215e+00, -9.69859873e-01, -2.49144849e+00, -1.42165347e+00,\n",
              "        1.20768126e+00,  4.11248797e-01, -2.94914966e+00, -2.27184617e+00,\n",
              "       -1.19761037e+00,  1.61426418e+00,  5.40298658e-02, -3.07091882e+00,\n",
              "       -5.61160431e-01, -2.14902088e+00, -2.40348106e+00, -2.53014534e+00,\n",
              "        7.35803921e-03, -1.86075747e+00, -1.74416684e+00, -3.08328056e+00,\n",
              "       -1.70751843e+00, -3.75937828e+00, -2.79209481e-01, -1.56319071e-01,\n",
              "       -9.40203749e-01, -1.03267374e+00, -1.47239981e-01, -2.86417284e+00,\n",
              "       -1.75069852e+00, -2.08271211e+00, -2.51199738e-01, -1.13758189e+00,\n",
              "        1.82335100e+00,  1.70155633e+00, -1.34873213e+00, -6.20991694e-01,\n",
              "        2.04281369e+00, -3.45619138e-01,  4.44520133e-01, -2.15253018e+00,\n",
              "       -2.50536627e+00, -1.90131438e+00, -2.68908876e+00, -3.49814109e+00,\n",
              "        1.46966209e+00, -1.45164762e+00, -6.24262192e-01, -1.88984450e+00,\n",
              "        7.74231866e-01, -1.09641558e+00, -1.55139104e+00, -5.78042331e-01,\n",
              "        2.83929732e-01, -6.08713662e-01, -3.27044805e+00, -2.17192102e+00,\n",
              "       -2.66455699e+00, -2.44856145e+00, -1.02749399e+00, -7.92573436e-01,\n",
              "       -1.46749002e+00, -1.94917424e+00, -3.13528881e-03, -6.80603745e-01,\n",
              "        6.57962662e-01,  5.33472895e-01, -1.12366470e+00, -1.28855972e+00,\n",
              "       -3.50535691e-01, -1.49206423e+00, -1.11251799e+00,  3.01360765e+00,\n",
              "       -1.12030546e+00, -1.98481772e+00, -3.11048993e-01, -1.67199543e+00,\n",
              "        9.09620088e-01, -7.80879534e-01, -1.66345130e-01,  8.50302218e-02,\n",
              "       -1.82996307e+00, -2.70503484e+00, -1.22156805e+00, -9.88641662e-01,\n",
              "       -2.57632656e+00,  3.15710591e-01,  3.00832338e+00, -2.57572586e+00,\n",
              "       -8.25403374e-01, -1.49315993e+00, -8.39385657e-01,  1.97099815e+00,\n",
              "        2.33136984e-01, -1.81334950e+00,  1.40334852e+00,  3.37139258e+00,\n",
              "       -2.08821435e+00, -2.00009525e+00, -9.50177724e-01, -3.42207620e+00,\n",
              "       -3.22780371e+00, -3.10829115e+00, -1.67391330e+00, -3.02113888e+00,\n",
              "       -3.20800934e+00, -7.09982298e-01,  6.27893548e-01,  2.43459241e+00,\n",
              "        1.78196304e+00, -2.92989837e+00, -3.76485450e+00,  1.79892738e+00,\n",
              "       -4.77103903e-02,  1.65591477e+00, -1.00614715e+00, -3.76282452e+00,\n",
              "       -8.12165027e-01,  1.22586623e+00, -1.08552135e+00, -5.42935218e-01,\n",
              "       -3.87245529e+00, -5.23740786e-01,  5.96567072e-01, -2.60221550e+00,\n",
              "        1.02359282e+00, -1.48038802e+00, -8.25773212e-01, -5.49991910e-01,\n",
              "       -9.62809183e-01, -2.70298684e+00, -7.96593107e-01,  6.82873650e-01,\n",
              "       -1.58055495e+00, -3.88938069e+00,  2.09356108e+00, -1.69828184e+00,\n",
              "        9.26324366e-02, -8.79287114e-02, -5.45468230e-01, -1.46086597e+00,\n",
              "       -2.24774519e-01, -1.58604905e+00, -1.33959269e+00, -2.50322305e+00,\n",
              "       -1.51966933e+00, -2.73019521e+00, -1.29272049e+00,  2.01865137e+00,\n",
              "       -2.28715206e+00, -2.05023589e+00, -3.52596412e-01, -2.22665050e+00,\n",
              "        1.21159571e+00, -1.20988461e+00, -1.24246001e+00, -1.10673500e+00,\n",
              "        2.12452693e+00, -2.30358035e+00,  4.80373314e-01, -2.12904680e+00,\n",
              "        6.76442151e-01, -1.41610669e+00, -2.45555657e+00,  7.89545147e-02,\n",
              "       -2.99856027e+00, -2.60119483e-01,  2.77879281e+00, -5.68136763e-01,\n",
              "        1.95865177e+00, -3.18193944e-01, -1.02370300e+00, -6.62645563e-01,\n",
              "       -1.46547639e+00, -1.91022465e+00, -1.85963329e+00, -7.91662862e-01,\n",
              "        3.82924736e-01, -3.17251792e-01,  1.85881127e+00, -1.31145065e+00,\n",
              "        1.66951380e+00, -1.79625421e+00,  8.12216802e-02, -3.37626602e+00,\n",
              "       -5.88490430e-01, -1.41296998e+00,  9.92423692e-01, -1.35912260e-01,\n",
              "       -1.67806340e+00, -9.54351068e-02, -2.34197696e+00, -1.46297768e+00,\n",
              "       -1.80750579e+00, -7.58140580e-01, -9.07322347e-01,  3.02665639e+00,\n",
              "        4.13565522e-01,  1.10369662e+00,  2.06734505e-01, -2.25072699e+00,\n",
              "       -1.31837483e+00,  1.60977408e+00, -4.11904531e-01, -9.25696711e-01,\n",
              "       -3.36549348e+00, -9.85384959e-01,  1.08823757e+00, -5.23084995e-01,\n",
              "       -1.07123633e+00, -7.75404037e-01, -3.89198851e+00,  8.12121259e-01,\n",
              "        1.30927506e+00, -2.78828584e+00])"
            ]
          },
          "execution_count": 385,
          "metadata": {},
          "output_type": "execute_result"
        }
      ],
      "source": [
        "logistic.decision_function(X_train) #мера близости объекта к границе разделения классов, чем больше - тем больше вероятность принадлежности к положительному классу"
      ]
    },
    {
      "cell_type": "code",
      "execution_count": null,
      "id": "fed97775",
      "metadata": {
        "id": "fed97775",
        "outputId": "cd64fa8d-5972-4988-858b-62c90e1e3b38"
      },
      "outputs": [
        {
          "data": {
            "text/plain": [
              "0.7532467532467533"
            ]
          },
          "execution_count": 386,
          "metadata": {},
          "output_type": "execute_result"
        }
      ],
      "source": [
        "logistic_1 = LogisticRegression(penalty='l1', solver='liblinear')\n",
        "#регуляризация L1 приводит к выбору наиболее важных признаков, L2 снижает переобучение модели\n",
        "#solver отвечает за метод оптимизации, liblinear использует методы координатного спуска\n",
        "logistic_1.fit(X_train, y_train)\n",
        "logistic_1.score(X_test, y_test)"
      ]
    },
    {
      "cell_type": "code",
      "execution_count": null,
      "id": "b8a823cd",
      "metadata": {
        "id": "b8a823cd",
        "outputId": "ec4b2215-dd6d-4e52-aac3-f80f6194784a"
      },
      "outputs": [
        {
          "name": "stderr",
          "output_type": "stream",
          "text": [
            "C:\\Users\\user\\anaconda3\\lib\\site-packages\\sklearn\\linear_model\\_sag.py:352: ConvergenceWarning: The max_iter was reached which means the coef_ did not converge\n",
            "  warnings.warn(\n"
          ]
        },
        {
          "data": {
            "text/plain": [
              "0.7012987012987013"
            ]
          },
          "execution_count": 387,
          "metadata": {},
          "output_type": "execute_result"
        }
      ],
      "source": [
        "logistic_1 = LogisticRegression(penalty='l2', solver='sag')\n",
        "#sag - стохастический средний градиентный спуск, только с L2\n",
        "logistic_1.fit(X_train, y_train)\n",
        "logistic_1.score(X_test, y_test)"
      ]
    },
    {
      "cell_type": "code",
      "execution_count": null,
      "id": "915c2c5e",
      "metadata": {
        "id": "915c2c5e",
        "outputId": "e9457709-51cc-43f0-e3b3-4a88c813e739"
      },
      "outputs": [
        {
          "data": {
            "text/plain": [
              "0.7662337662337663"
            ]
          },
          "execution_count": 388,
          "metadata": {},
          "output_type": "execute_result"
        }
      ],
      "source": [
        "logistic_2 = LogisticRegression(C=0.00005)\n",
        "#Меньшее значение C(параметр регуляризации) соответствует более сильному штрафу за большие значения весов\n",
        "logistic_2.fit(X_train, y_train)\n",
        "logistic_2.score(X_test, y_test)"
      ]
    },
    {
      "cell_type": "code",
      "execution_count": null,
      "id": "062f6b3d",
      "metadata": {
        "id": "062f6b3d",
        "outputId": "3946f96d-9ecf-4b6d-f5f8-88337a994037"
      },
      "outputs": [
        {
          "name": "stderr",
          "output_type": "stream",
          "text": [
            "C:\\Users\\user\\anaconda3\\lib\\site-packages\\sklearn\\linear_model\\_logistic.py:814: ConvergenceWarning: lbfgs failed to converge (status=1):\n",
            "STOP: TOTAL NO. of ITERATIONS REACHED LIMIT.\n",
            "\n",
            "Increase the number of iterations (max_iter) or scale the data as shown in:\n",
            "    https://scikit-learn.org/stable/modules/preprocessing.html\n",
            "Please also refer to the documentation for alternative solver options:\n",
            "    https://scikit-learn.org/stable/modules/linear_model.html#logistic-regression\n",
            "  n_iter_i = _check_optimize_result(\n"
          ]
        },
        {
          "data": {
            "text/plain": [
              "0.6753246753246753"
            ]
          },
          "execution_count": 389,
          "metadata": {},
          "output_type": "execute_result"
        }
      ],
      "source": [
        "logistic_3 = LogisticRegression(max_iter=10)\n",
        "#Максимальное число итераций при обучении модели\n",
        "logistic_3.fit(X_train, y_train)\n",
        "logistic_3.score(X_test, y_test)"
      ]
    },
    {
      "cell_type": "code",
      "execution_count": null,
      "id": "b0c1bba3",
      "metadata": {
        "id": "b0c1bba3",
        "outputId": "1caf76af-574a-4721-d8b2-915ee1313a5c"
      },
      "outputs": [
        {
          "data": {
            "text/plain": [
              "0.7467532467532467"
            ]
          },
          "execution_count": 390,
          "metadata": {},
          "output_type": "execute_result"
        }
      ],
      "source": [
        "logistic_3 = LogisticRegression(max_iter=10000)\n",
        "#Максимальное число итераций при обучении модели\n",
        "logistic_3.fit(X_train, y_train)\n",
        "logistic_3.score(X_test, y_test)"
      ]
    },
    {
      "cell_type": "markdown",
      "id": "dc389576",
      "metadata": {
        "id": "dc389576"
      },
      "source": [
        "2. Попробуйте применить к той же задаче другие модели классификации. Для каждой из них выведите матрицу классификации и оценку точности."
      ]
    },
    {
      "cell_type": "markdown",
      "id": "22c59084",
      "metadata": {
        "id": "22c59084"
      },
      "source": [
        "i. Метод опорных векторов"
      ]
    },
    {
      "cell_type": "markdown",
      "id": "73cdec92",
      "metadata": {
        "id": "73cdec92"
      },
      "source": [
        "    Без ядра"
      ]
    },
    {
      "cell_type": "code",
      "execution_count": null,
      "id": "bf01627a",
      "metadata": {
        "id": "bf01627a",
        "outputId": "a7fedb2d-df59-4f96-c789-15d42538ccc5"
      },
      "outputs": [
        {
          "name": "stdout",
          "output_type": "stream",
          "text": [
            "0.7532467532467533\n"
          ]
        },
        {
          "data": {
            "image/png": "[encoded data removed]",
            "text/plain": [
              "<Figure size 640x480 with 2 Axes>"
            ]
          },
          "metadata": {},
          "output_type": "display_data"
        }
      ],
      "source": [
        "from sklearn.svm import SVC #классификатор опорных векторов\n",
        "from sklearn.metrics import accuracy_score\n",
        "import seaborn as sns\n",
        "from sklearn import metrics\n",
        "\n",
        "clf = SVC(kernel='linear', C=1)\n",
        "clf.fit(X_train, y_train)\n",
        "y_pred3 = clf.predict(X_test)\n",
        "\n",
        "print(accuracy_score(y_test, y_pred3))\n",
        "sns.heatmap(metrics.confusion_matrix(y_test, y_pred3), annot=True); #визуализация матрицы ошибок\n",
        "#TN FN\n",
        "#FP TP\n"
      ]
    },
    {
      "cell_type": "markdown",
      "id": "78fe0a3e",
      "metadata": {
        "id": "78fe0a3e"
      },
      "source": [
        "    С линейным ядром (то же самое)"
      ]
    },
    {
      "cell_type": "code",
      "execution_count": null,
      "id": "fc2d41ca",
      "metadata": {
        "id": "fc2d41ca",
        "outputId": "d8b7893d-f9b9-4a1f-87a9-e42cfe1d4bad"
      },
      "outputs": [
        {
          "name": "stdout",
          "output_type": "stream",
          "text": [
            "0.7532467532467533\n"
          ]
        },
        {
          "data": {
            "image/png": "[encoded data removed]",
            "text/plain": [
              "<Figure size 640x480 with 2 Axes>"
            ]
          },
          "metadata": {},
          "output_type": "display_data"
        }
      ],
      "source": [
        "clf = SVC(kernel='linear', C=1)\n",
        "#используется линейное ядро, которое позволяет SVM создавать гиперплоскости для разделения данных.\n",
        "clf.fit(X_train, y_train)\n",
        "\n",
        "y_pred3 = clf.predict(X_test)\n",
        "\n",
        "print(accuracy_score(y_test, y_pred3))\n",
        "sns.heatmap(metrics.confusion_matrix(y_test, y_pred3), annot=True);"
      ]
    },
    {
      "cell_type": "markdown",
      "id": "49bad976",
      "metadata": {
        "id": "49bad976"
      },
      "source": [
        "    С гауссовым ядром"
      ]
    },
    {
      "cell_type": "code",
      "execution_count": null,
      "id": "8ef00212",
      "metadata": {
        "id": "8ef00212",
        "outputId": "9cc9291f-bab6-42cb-d3e0-9cf7107ca451"
      },
      "outputs": [
        {
          "name": "stdout",
          "output_type": "stream",
          "text": [
            "0.7662337662337663\n"
          ]
        },
        {
          "data": {
            "image/png": "[encoded data removed]",
            "text/plain": [
              "<Figure size 640x480 with 2 Axes>"
            ]
          },
          "metadata": {},
          "output_type": "display_data"
        }
      ],
      "source": [
        "from sklearn.svm import SVC\n",
        "from sklearn.metrics import accuracy_score\n",
        "\n",
        "clf2 = SVC(kernel='rbf', gamma='scale', C=1)\n",
        "# scale - ширина ядра (по умолчанию, зависит от числа признаков и дисперсии)\n",
        "clf2.fit(X_train, y_train)\n",
        "y_pred4 = clf2.predict(X_test)\n",
        "\n",
        "print(accuracy_score(y_test, y_pred4))\n",
        "sns.heatmap(metrics.confusion_matrix(y_test, y_pred4), annot=True);"
      ]
    },
    {
      "cell_type": "markdown",
      "id": "baba3377",
      "metadata": {
        "id": "baba3377"
      },
      "source": [
        "    С полиноминальным ядром"
      ]
    },
    {
      "cell_type": "code",
      "execution_count": null,
      "id": "3797150a",
      "metadata": {
        "id": "3797150a",
        "outputId": "bb8d20a6-d2a5-4886-8f19-067c66be4faf"
      },
      "outputs": [
        {
          "name": "stdout",
          "output_type": "stream",
          "text": [
            "0.7597402597402597\n"
          ]
        },
        {
          "data": {
            "image/png": "[encoded data removed]",
            "text/plain": [
              "<Figure size 640x480 with 2 Axes>"
            ]
          },
          "metadata": {},
          "output_type": "display_data"
        }
      ],
      "source": [
        "from sklearn.svm import SVC\n",
        "from sklearn.metrics import accuracy_score\n",
        "\n",
        "clf3 = SVC(kernel='poly', C=1, degree=3)\n",
        "#С - коэффициент регуляризации, degree - степень полинома\n",
        "clf3.fit(X_train, y_train)\n",
        "y_pred5 = clf3.predict(X_test)\n",
        "\n",
        "print(accuracy_score(y_test, y_pred5))\n",
        "sns.heatmap(metrics.confusion_matrix(y_test, y_pred5), annot=True);"
      ]
    },
    {
      "cell_type": "markdown",
      "id": "c9985b46",
      "metadata": {
        "id": "c9985b46"
      },
      "source": [
        "ii. Метод ближайших соседей"
      ]
    },
    {
      "cell_type": "code",
      "execution_count": null,
      "id": "daae5bec",
      "metadata": {
        "id": "daae5bec",
        "outputId": "53b8eb9e-912f-4b98-fd13-9c20dbf45d8a"
      },
      "outputs": [
        {
          "name": "stderr",
          "output_type": "stream",
          "text": [
            "C:\\Users\\user\\anaconda3\\lib\\site-packages\\sklearn\\neighbors\\_classification.py:228: FutureWarning: Unlike other reduction functions (e.g. `skew`, `kurtosis`), the default behavior of `mode` typically preserves the axis it acts along. In SciPy 1.11.0, this behavior will change: the default value of `keepdims` will become False, the `axis` over which the statistic is taken will be eliminated, and the value None will no longer be accepted. Set `keepdims` to True or False to avoid this warning.\n",
            "  mode, _ = stats.mode(_y[neigh_ind, k], axis=1)\n"
          ]
        },
        {
          "name": "stdout",
          "output_type": "stream",
          "text": [
            "0.7792207792207793\n"
          ]
        },
        {
          "data": {
            "image/png": "[encoded data removed]",
            "text/plain": [
              "<Figure size 640x480 with 2 Axes>"
            ]
          },
          "metadata": {},
          "output_type": "display_data"
        }
      ],
      "source": [
        "from sklearn.neighbors import KNeighborsClassifier\n",
        "\n",
        "clf4 = KNeighborsClassifier(n_neighbors=12)\n",
        "#n-neighbors - количество ближайших соседей, используемые для классификации нового примера.\n",
        "clf4.fit(X_train, y_train)\n",
        "y_pred6 = clf4.predict(X_test)\n",
        "\n",
        "print(accuracy_score(y_test, y_pred6))\n",
        "sns.heatmap(metrics.confusion_matrix(y_test, y_pred6), annot=True);"
      ]
    },
    {
      "cell_type": "markdown",
      "id": "e0b4d390",
      "metadata": {
        "id": "e0b4d390"
      },
      "source": [
        "iii. Многослойный перцептрон"
      ]
    },
    {
      "cell_type": "code",
      "execution_count": null,
      "id": "3810372c",
      "metadata": {
        "id": "3810372c",
        "outputId": "937431d6-4960-466b-9e37-93da7a8f93d0"
      },
      "outputs": [
        {
          "name": "stdout",
          "output_type": "stream",
          "text": [
            "0.7272727272727273\n"
          ]
        },
        {
          "data": {
            "image/png": "[encoded data removed]",
            "text/plain": [
              "<Figure size 640x480 with 2 Axes>"
            ]
          },
          "metadata": {},
          "output_type": "display_data"
        }
      ],
      "source": [
        "from sklearn.neural_network import MLPClassifier\n",
        "from sklearn.metrics import accuracy_score\n",
        "\n",
        "clf5 = MLPClassifier(hidden_layer_sizes=(15, 5), activation='relu', solver='adam', alpha=0.0001, max_iter=200, random_state=42)\n",
        "\n",
        "#hidden_layer_sizes - количество нейронов в каждом скрытом слое\n",
        "#activation - функция активации нейронов (позволяет моделировать более сложные зависимости между входными и выходными данными)\n",
        "#solver - метод оптимизации весов (влияет на обновление веса)\n",
        "#alpha - коэффициент регуляризации  (предотовращение переобучения модели)\n",
        "#max_iter - максимальное количество итераций\n",
        "#random_state - установка начального состояния генератоар случайных чисел\n",
        "\n",
        "clf5.fit(X_train, y_train)\n",
        "\n",
        "y_pred7 = clf5.predict(X_test)\n",
        "\n",
        "print(accuracy_score(y_test, y_pred7))\n",
        "sns.heatmap(metrics.confusion_matrix(y_test, y_pred7), annot=True);"
      ]
    },
    {
      "cell_type": "markdown",
      "id": "1106de30",
      "metadata": {
        "id": "1106de30"
      },
      "source": [
        "iv. Дерево решений"
      ]
    },
    {
      "cell_type": "code",
      "execution_count": null,
      "id": "7ac500da",
      "metadata": {
        "id": "7ac500da",
        "outputId": "4f732eaa-091e-458d-e208-c6c8f0d2b1fd"
      },
      "outputs": [
        {
          "name": "stdout",
          "output_type": "stream",
          "text": [
            "0.7402597402597403\n"
          ]
        },
        {
          "data": {
            "image/png": "[encoded data removed]",
            "text/plain": [
              "<Figure size 640x480 with 2 Axes>"
            ]
          },
          "metadata": {},
          "output_type": "display_data"
        }
      ],
      "source": [
        "from sklearn.tree import DecisionTreeClassifier\n",
        "from sklearn.metrics import accuracy_score\n",
        "\n",
        "clf6 = DecisionTreeClassifier(max_depth=20)\n",
        "#max-depth - максимальная глубина дерева\n",
        "clf6.fit(X_train, y_train)\n",
        "y_pred8 = clf6.predict(X_test)\n",
        "\n",
        "print(accuracy_score(y_test, y_pred8))\n",
        "sns.heatmap(metrics.confusion_matrix(y_test, y_pred8), annot=True);"
      ]
    },
    {
      "cell_type": "markdown",
      "id": "42a590a3",
      "metadata": {
        "id": "42a590a3"
      },
      "source": [
        "v. Наивный байесовский классификатор"
      ]
    },
    {
      "cell_type": "code",
      "execution_count": null,
      "id": "504e1772",
      "metadata": {
        "id": "504e1772",
        "outputId": "5e760a1a-1898-467a-c602-7a6502b175ac"
      },
      "outputs": [
        {
          "name": "stdout",
          "output_type": "stream",
          "text": [
            "0.7662337662337663\n"
          ]
        },
        {
          "data": {
            "image/png": "[encoded data removed]",
            "text/plain": [
              "<Figure size 640x480 with 2 Axes>"
            ]
          },
          "metadata": {},
          "output_type": "display_data"
        }
      ],
      "source": [
        "from sklearn.naive_bayes import GaussianNB\n",
        "from sklearn.metrics import accuracy_score\n",
        "\n",
        "clf7 = GaussianNB()\n",
        "clf7.fit(X_train, y_train)\n",
        "y_pred9 = clf7.predict(X_test)\n",
        "\n",
        "print(accuracy_score(y_test, y_pred9))\n",
        "sns.heatmap(metrics.confusion_matrix(y_test, y_pred9), annot=True);"
      ]
    },
    {
      "cell_type": "markdown",
      "id": "dbc3e934",
      "metadata": {
        "id": "dbc3e934"
      },
      "source": [
        "3. Напишите функцию, которая автоматически обучает все перечисленные модели и для каждой выдает оценку точности."
      ]
    },
    {
      "cell_type": "code",
      "execution_count": null,
      "id": "8fc7071e",
      "metadata": {
        "id": "8fc7071e"
      },
      "outputs": [],
      "source": [
        "def train_run_models(X_train, y_train, X_test, y_test):\n",
        "    models = [\n",
        "        ('Логистическая регрессия', LogisticRegression()),\n",
        "        ('Метод опорных векторов:\\nС линейным ядром', SVC(kernel='linear')),\n",
        "        ('С Гауссовым ядром', SVC(kernel='rbf')),\n",
        "        ('С полиноминальным ядром', SVC(kernel='poly')),\n",
        "        ('Метод ближайших соседей', KNeighborsClassifier()),\n",
        "        ('Многослойный перцептрон', MLPClassifier()),\n",
        "        ('Дерево решений', DecisionTreeClassifier()),\n",
        "        ('Наивный байесовский классификатор', GaussianNB())\n",
        "    ]\n",
        "\n",
        "    for name, model in models:\n",
        "        model.fit(X_train, y_train)\n",
        "        y_pred = model.predict(X_test)\n",
        "        accuracy = accuracy_score(y_test, y_pred)\n",
        "        print(f'{name}: {accuracy}')"
      ]
    },
    {
      "cell_type": "code",
      "execution_count": null,
      "id": "62b29d35",
      "metadata": {
        "id": "62b29d35",
        "outputId": "70e4fddc-c1bc-4a95-a641-f72b066a046b"
      },
      "outputs": [
        {
          "name": "stderr",
          "output_type": "stream",
          "text": [
            "C:\\Users\\user\\anaconda3\\lib\\site-packages\\sklearn\\linear_model\\_logistic.py:814: ConvergenceWarning: lbfgs failed to converge (status=1):\n",
            "STOP: TOTAL NO. of ITERATIONS REACHED LIMIT.\n",
            "\n",
            "Increase the number of iterations (max_iter) or scale the data as shown in:\n",
            "    https://scikit-learn.org/stable/modules/preprocessing.html\n",
            "Please also refer to the documentation for alternative solver options:\n",
            "    https://scikit-learn.org/stable/modules/linear_model.html#logistic-regression\n",
            "  n_iter_i = _check_optimize_result(\n"
          ]
        },
        {
          "name": "stdout",
          "output_type": "stream",
          "text": [
            "Логистическая регрессия: 0.7467532467532467\n",
            "Метод опорных векторов:\n",
            "С линейным ядром: 0.7532467532467533\n",
            "С Гауссовым ядром: 0.7662337662337663\n",
            "С полиноминальным ядром: 0.7597402597402597\n",
            "Метод ближайших соседей: 0.6623376623376623\n"
          ]
        },
        {
          "name": "stderr",
          "output_type": "stream",
          "text": [
            "C:\\Users\\user\\anaconda3\\lib\\site-packages\\sklearn\\neighbors\\_classification.py:228: FutureWarning: Unlike other reduction functions (e.g. `skew`, `kurtosis`), the default behavior of `mode` typically preserves the axis it acts along. In SciPy 1.11.0, this behavior will change: the default value of `keepdims` will become False, the `axis` over which the statistic is taken will be eliminated, and the value None will no longer be accepted. Set `keepdims` to True or False to avoid this warning.\n",
            "  mode, _ = stats.mode(_y[neigh_ind, k], axis=1)\n"
          ]
        },
        {
          "name": "stdout",
          "output_type": "stream",
          "text": [
            "Многослойный перцептрон: 0.7467532467532467\n",
            "Дерево решений: 0.7662337662337663\n",
            "Наивный байесовский классификатор: 0.7662337662337663\n"
          ]
        }
      ],
      "source": [
        "train_run_models(X_train, y_train, X_test, y_test)"
      ]
    },
    {
      "cell_type": "markdown",
      "id": "5ae7632a",
      "metadata": {
        "id": "5ae7632a"
      },
      "source": [
        "4. Повторите полностью анализ для другой задачи - распознавание вида ириса по параметрам растения (можно использовать метод sklearn.datasets.load_iris())."
      ]
    },
    {
      "cell_type": "code",
      "execution_count": null,
      "id": "6030f5ad",
      "metadata": {
        "id": "6030f5ad",
        "outputId": "dbbb0fb4-4780-493e-939c-e6e8d89d67a9"
      },
      "outputs": [
        {
          "name": "stdout",
          "output_type": "stream",
          "text": [
            "Логистическая регрессия: 1.0\n",
            "Метод опорных векторов:\n",
            "С линейным ядром: 1.0\n",
            "С Гауссовым ядром: 1.0\n",
            "С полиноминальным ядром: 1.0\n",
            "Метод ближайших соседей: 1.0\n"
          ]
        },
        {
          "name": "stderr",
          "output_type": "stream",
          "text": [
            "C:\\Users\\user\\anaconda3\\lib\\site-packages\\sklearn\\linear_model\\_logistic.py:814: ConvergenceWarning: lbfgs failed to converge (status=1):\n",
            "STOP: TOTAL NO. of ITERATIONS REACHED LIMIT.\n",
            "\n",
            "Increase the number of iterations (max_iter) or scale the data as shown in:\n",
            "    https://scikit-learn.org/stable/modules/preprocessing.html\n",
            "Please also refer to the documentation for alternative solver options:\n",
            "    https://scikit-learn.org/stable/modules/linear_model.html#logistic-regression\n",
            "  n_iter_i = _check_optimize_result(\n",
            "C:\\Users\\user\\anaconda3\\lib\\site-packages\\sklearn\\neighbors\\_classification.py:228: FutureWarning: Unlike other reduction functions (e.g. `skew`, `kurtosis`), the default behavior of `mode` typically preserves the axis it acts along. In SciPy 1.11.0, this behavior will change: the default value of `keepdims` will become False, the `axis` over which the statistic is taken will be eliminated, and the value None will no longer be accepted. Set `keepdims` to True or False to avoid this warning.\n",
            "  mode, _ = stats.mode(_y[neigh_ind, k], axis=1)\n"
          ]
        },
        {
          "name": "stdout",
          "output_type": "stream",
          "text": [
            "Многослойный перцептрон: 1.0\n",
            "Дерево решений: 1.0\n",
            "Наивный байесовский классификатор: 1.0\n"
          ]
        },
        {
          "name": "stderr",
          "output_type": "stream",
          "text": [
            "C:\\Users\\user\\anaconda3\\lib\\site-packages\\sklearn\\neural_network\\_multilayer_perceptron.py:692: ConvergenceWarning: Stochastic Optimizer: Maximum iterations (200) reached and the optimization hasn't converged yet.\n",
            "  warnings.warn(\n"
          ]
        }
      ],
      "source": [
        "from sklearn.datasets import load_iris\n",
        "from sklearn.model_selection import train_test_split\n",
        "\n",
        "iris = load_iris()\n",
        "X_train, X_test, y_train, y_test = train_test_split(iris.data, iris.target, test_size=0.2, random_state=42)\n",
        "#обучающая выборка 80%, тестовая 20%\n",
        "train_run_models(X_train, y_train, X_test, y_test)"
      ]
    }
  ],
  "metadata": {
    "kernelspec": {
      "display_name": "Python 3 (ipykernel)",
      "language": "python",
      "name": "python3"
    },
    "language_info": {
      "codemirror_mode": {
        "name": "ipython",
        "version": 3
      },
      "file_extension": ".py",
      "mimetype": "text/x-python",
      "name": "python",
      "nbconvert_exporter": "python",
      "pygments_lexer": "ipython3",
      "version": "3.8.15"
    },
    "colab": {
      "provenance": []
    }
  },
  "nbformat": 4,
  "nbformat_minor": 5
}